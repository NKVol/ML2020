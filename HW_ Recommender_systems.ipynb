{
 "cells": [
  {
   "cell_type": "markdown",
   "metadata": {},
   "source": [
    "Памперсы или пиво? Практический проект по созданию рекомендательной системы.\n",
    "Цель: Настало время поработать с данными самой большой и самой дорогой компании, занимающейся, похоже, уже всем на свете: от продажи всего и вся, до настройки облачных инфраструктур и создания роботов. Конечно же это компания Джеффа могу-купить-весь-мир Безоса - Amazon."
   ]
  },
  {
   "cell_type": "markdown",
   "metadata": {},
   "source": [
    "1.Выберите любой понравившийся вам набор данных по ссылке https://nijianmo.github.io/amazon/index.html, стоит обратить внимание на раздел \"Small\" subsets for experimentation, где представлены не самые большие датасеты (чтобы и в память поместился, и считался недолго)"
   ]
  },
  {
   "cell_type": "code",
   "execution_count": 1,
   "metadata": {},
   "outputs": [],
   "source": [
    "import numpy as np\n",
    "import pandas as pd\n",
    "import matplotlib.pyplot as plt\n",
    "import seaborn as sns\n",
    "from surprise import SVD\n",
    "from surprise import Dataset, Reader\n",
    "from surprise import accuracy\n",
    "from surprise.model_selection import train_test_split\n",
    "from surprise.model_selection import GridSearchCV\n",
    "from surprise.model_selection import cross_validate\n",
    "from scipy.sparse import csr_matrix\n",
    "import datetime"
   ]
  },
  {
   "cell_type": "code",
   "execution_count": 2,
   "metadata": {},
   "outputs": [],
   "source": [
    "url=\"http://deepyeti.ucsd.edu/jianmo/amazon/categoryFilesSmall/Software.csv\"\n",
    "df=pd.read_csv(url)"
   ]
  },
  {
   "cell_type": "code",
   "execution_count": 3,
   "metadata": {},
   "outputs": [
    {
     "data": {
      "text/html": [
       "<div>\n",
       "<style scoped>\n",
       "    .dataframe tbody tr th:only-of-type {\n",
       "        vertical-align: middle;\n",
       "    }\n",
       "\n",
       "    .dataframe tbody tr th {\n",
       "        vertical-align: top;\n",
       "    }\n",
       "\n",
       "    .dataframe thead th {\n",
       "        text-align: right;\n",
       "    }\n",
       "</style>\n",
       "<table border=\"1\" class=\"dataframe\">\n",
       "  <thead>\n",
       "    <tr style=\"text-align: right;\">\n",
       "      <th></th>\n",
       "      <th>0077613252</th>\n",
       "      <th>A240ORQ2LF9LUI</th>\n",
       "      <th>4.0</th>\n",
       "      <th>1394496000</th>\n",
       "    </tr>\n",
       "  </thead>\n",
       "  <tbody>\n",
       "    <tr>\n",
       "      <th>0</th>\n",
       "      <td>0077613252</td>\n",
       "      <td>A1YCCU0YRLS0FE</td>\n",
       "      <td>4.0</td>\n",
       "      <td>1393113600</td>\n",
       "    </tr>\n",
       "    <tr>\n",
       "      <th>1</th>\n",
       "      <td>0077613252</td>\n",
       "      <td>A1BJHRQDYVAY2J</td>\n",
       "      <td>1.0</td>\n",
       "      <td>1392595200</td>\n",
       "    </tr>\n",
       "    <tr>\n",
       "      <th>2</th>\n",
       "      <td>0077613252</td>\n",
       "      <td>APRDVZ6QBIQXT</td>\n",
       "      <td>3.0</td>\n",
       "      <td>1392595200</td>\n",
       "    </tr>\n",
       "    <tr>\n",
       "      <th>3</th>\n",
       "      <td>0077775473</td>\n",
       "      <td>A2JZTTBSLS1QXV</td>\n",
       "      <td>5.0</td>\n",
       "      <td>1381708800</td>\n",
       "    </tr>\n",
       "    <tr>\n",
       "      <th>4</th>\n",
       "      <td>0132147556</td>\n",
       "      <td>AGN3T5ERYJN5A</td>\n",
       "      <td>4.0</td>\n",
       "      <td>1313366400</td>\n",
       "    </tr>\n",
       "    <tr>\n",
       "      <th>5</th>\n",
       "      <td>0132147556</td>\n",
       "      <td>AHPK2GD0SQC59</td>\n",
       "      <td>3.0</td>\n",
       "      <td>1286582400</td>\n",
       "    </tr>\n",
       "    <tr>\n",
       "      <th>6</th>\n",
       "      <td>0132147556</td>\n",
       "      <td>A35UC8LHA6TILH</td>\n",
       "      <td>5.0</td>\n",
       "      <td>1286064000</td>\n",
       "    </tr>\n",
       "    <tr>\n",
       "      <th>7</th>\n",
       "      <td>0132147556</td>\n",
       "      <td>A2IH0AJPR7IWG3</td>\n",
       "      <td>5.0</td>\n",
       "      <td>1286064000</td>\n",
       "    </tr>\n",
       "    <tr>\n",
       "      <th>8</th>\n",
       "      <td>0132147556</td>\n",
       "      <td>AL87GELNJGOH3</td>\n",
       "      <td>5.0</td>\n",
       "      <td>1274572800</td>\n",
       "    </tr>\n",
       "    <tr>\n",
       "      <th>9</th>\n",
       "      <td>0132147556</td>\n",
       "      <td>A1CUJ6ZT82H7LS</td>\n",
       "      <td>2.0</td>\n",
       "      <td>1241308800</td>\n",
       "    </tr>\n",
       "  </tbody>\n",
       "</table>\n",
       "</div>"
      ],
      "text/plain": [
       "   0077613252  A240ORQ2LF9LUI  4.0  1394496000\n",
       "0  0077613252  A1YCCU0YRLS0FE  4.0  1393113600\n",
       "1  0077613252  A1BJHRQDYVAY2J  1.0  1392595200\n",
       "2  0077613252   APRDVZ6QBIQXT  3.0  1392595200\n",
       "3  0077775473  A2JZTTBSLS1QXV  5.0  1381708800\n",
       "4  0132147556   AGN3T5ERYJN5A  4.0  1313366400\n",
       "5  0132147556   AHPK2GD0SQC59  3.0  1286582400\n",
       "6  0132147556  A35UC8LHA6TILH  5.0  1286064000\n",
       "7  0132147556  A2IH0AJPR7IWG3  5.0  1286064000\n",
       "8  0132147556   AL87GELNJGOH3  5.0  1274572800\n",
       "9  0132147556  A1CUJ6ZT82H7LS  2.0  1241308800"
      ]
     },
     "execution_count": 3,
     "metadata": {},
     "output_type": "execute_result"
    }
   ],
   "source": [
    "df.head(10)"
   ]
  },
  {
   "cell_type": "code",
   "execution_count": 4,
   "metadata": {},
   "outputs": [],
   "source": [
    "df.columns = ['asin', 'reviewerID', 'overall', 'unixReviewTime']"
   ]
  },
  {
   "cell_type": "code",
   "execution_count": 5,
   "metadata": {},
   "outputs": [],
   "source": [
    "df = df.sort_values(by=['unixReviewTime'])"
   ]
  },
  {
   "cell_type": "code",
   "execution_count": 6,
   "metadata": {},
   "outputs": [
    {
     "data": {
      "text/html": [
       "<div>\n",
       "<style scoped>\n",
       "    .dataframe tbody tr th:only-of-type {\n",
       "        vertical-align: middle;\n",
       "    }\n",
       "\n",
       "    .dataframe tbody tr th {\n",
       "        vertical-align: top;\n",
       "    }\n",
       "\n",
       "    .dataframe thead th {\n",
       "        text-align: right;\n",
       "    }\n",
       "</style>\n",
       "<table border=\"1\" class=\"dataframe\">\n",
       "  <thead>\n",
       "    <tr style=\"text-align: right;\">\n",
       "      <th></th>\n",
       "      <th>asin</th>\n",
       "      <th>reviewerID</th>\n",
       "      <th>overall</th>\n",
       "      <th>unixReviewTime</th>\n",
       "    </tr>\n",
       "  </thead>\n",
       "  <tbody>\n",
       "    <tr>\n",
       "      <th>458767</th>\n",
       "      <td>B01EB06QUM</td>\n",
       "      <td>A1JWEJ8SBX44X5</td>\n",
       "      <td>1.0</td>\n",
       "      <td>1537574400</td>\n",
       "    </tr>\n",
       "    <tr>\n",
       "      <th>459194</th>\n",
       "      <td>B01G1KFQXS</td>\n",
       "      <td>A2EEV3TT7PZD2E</td>\n",
       "      <td>1.0</td>\n",
       "      <td>1537574400</td>\n",
       "    </tr>\n",
       "    <tr>\n",
       "      <th>458929</th>\n",
       "      <td>B01EYEJQBG</td>\n",
       "      <td>A1J89TODYY8RBH</td>\n",
       "      <td>5.0</td>\n",
       "      <td>1537574400</td>\n",
       "    </tr>\n",
       "    <tr>\n",
       "      <th>459376</th>\n",
       "      <td>B01HAP3NJM</td>\n",
       "      <td>A3HCDCB1UO7EOZ</td>\n",
       "      <td>3.0</td>\n",
       "      <td>1537660800</td>\n",
       "    </tr>\n",
       "    <tr>\n",
       "      <th>459335</th>\n",
       "      <td>B01H10L9QU</td>\n",
       "      <td>A1A6HJMP7EYSYS</td>\n",
       "      <td>1.0</td>\n",
       "      <td>1537747200</td>\n",
       "    </tr>\n",
       "    <tr>\n",
       "      <th>459056</th>\n",
       "      <td>B01FBH8Q0C</td>\n",
       "      <td>A1Y5JLM1NOQOS</td>\n",
       "      <td>5.0</td>\n",
       "      <td>1537920000</td>\n",
       "    </tr>\n",
       "    <tr>\n",
       "      <th>458988</th>\n",
       "      <td>B01F70HHBC</td>\n",
       "      <td>A3ABW7RWERHVT</td>\n",
       "      <td>5.0</td>\n",
       "      <td>1537920000</td>\n",
       "    </tr>\n",
       "    <tr>\n",
       "      <th>459346</th>\n",
       "      <td>B01H39M7ME</td>\n",
       "      <td>AK2IG0QYBFLXL</td>\n",
       "      <td>5.0</td>\n",
       "      <td>1538352000</td>\n",
       "    </tr>\n",
       "    <tr>\n",
       "      <th>459328</th>\n",
       "      <td>B01GWG6YUA</td>\n",
       "      <td>A3PL0JBSTH8ED1</td>\n",
       "      <td>5.0</td>\n",
       "      <td>1538352000</td>\n",
       "    </tr>\n",
       "    <tr>\n",
       "      <th>459327</th>\n",
       "      <td>B01GWG6YUA</td>\n",
       "      <td>ANL4WPP7M48RZ</td>\n",
       "      <td>1.0</td>\n",
       "      <td>1538438400</td>\n",
       "    </tr>\n",
       "  </tbody>\n",
       "</table>\n",
       "</div>"
      ],
      "text/plain": [
       "              asin      reviewerID  overall  unixReviewTime\n",
       "458767  B01EB06QUM  A1JWEJ8SBX44X5      1.0      1537574400\n",
       "459194  B01G1KFQXS  A2EEV3TT7PZD2E      1.0      1537574400\n",
       "458929  B01EYEJQBG  A1J89TODYY8RBH      5.0      1537574400\n",
       "459376  B01HAP3NJM  A3HCDCB1UO7EOZ      3.0      1537660800\n",
       "459335  B01H10L9QU  A1A6HJMP7EYSYS      1.0      1537747200\n",
       "459056  B01FBH8Q0C   A1Y5JLM1NOQOS      5.0      1537920000\n",
       "458988  B01F70HHBC   A3ABW7RWERHVT      5.0      1537920000\n",
       "459346  B01H39M7ME   AK2IG0QYBFLXL      5.0      1538352000\n",
       "459328  B01GWG6YUA  A3PL0JBSTH8ED1      5.0      1538352000\n",
       "459327  B01GWG6YUA   ANL4WPP7M48RZ      1.0      1538438400"
      ]
     },
     "execution_count": 6,
     "metadata": {},
     "output_type": "execute_result"
    }
   ],
   "source": [
    "df.tail(10)"
   ]
  },
  {
   "cell_type": "code",
   "execution_count": 7,
   "metadata": {},
   "outputs": [
    {
     "data": {
      "text/html": [
       "<div>\n",
       "<style scoped>\n",
       "    .dataframe tbody tr th:only-of-type {\n",
       "        vertical-align: middle;\n",
       "    }\n",
       "\n",
       "    .dataframe tbody tr th {\n",
       "        vertical-align: top;\n",
       "    }\n",
       "\n",
       "    .dataframe thead th {\n",
       "        text-align: right;\n",
       "    }\n",
       "</style>\n",
       "<table border=\"1\" class=\"dataframe\">\n",
       "  <thead>\n",
       "    <tr style=\"text-align: right;\">\n",
       "      <th></th>\n",
       "      <th>asin</th>\n",
       "      <th>reviewerID</th>\n",
       "      <th>overall</th>\n",
       "      <th>unixReviewTime</th>\n",
       "    </tr>\n",
       "  </thead>\n",
       "  <tbody>\n",
       "    <tr>\n",
       "      <th>458767</th>\n",
       "      <td>B01EB06QUM</td>\n",
       "      <td>A1JWEJ8SBX44X5</td>\n",
       "      <td>1.0</td>\n",
       "      <td>1537574400</td>\n",
       "    </tr>\n",
       "    <tr>\n",
       "      <th>459194</th>\n",
       "      <td>B01G1KFQXS</td>\n",
       "      <td>A2EEV3TT7PZD2E</td>\n",
       "      <td>1.0</td>\n",
       "      <td>1537574400</td>\n",
       "    </tr>\n",
       "    <tr>\n",
       "      <th>458929</th>\n",
       "      <td>B01EYEJQBG</td>\n",
       "      <td>A1J89TODYY8RBH</td>\n",
       "      <td>5.0</td>\n",
       "      <td>1537574400</td>\n",
       "    </tr>\n",
       "    <tr>\n",
       "      <th>459376</th>\n",
       "      <td>B01HAP3NJM</td>\n",
       "      <td>A3HCDCB1UO7EOZ</td>\n",
       "      <td>3.0</td>\n",
       "      <td>1537660800</td>\n",
       "    </tr>\n",
       "    <tr>\n",
       "      <th>459335</th>\n",
       "      <td>B01H10L9QU</td>\n",
       "      <td>A1A6HJMP7EYSYS</td>\n",
       "      <td>1.0</td>\n",
       "      <td>1537747200</td>\n",
       "    </tr>\n",
       "    <tr>\n",
       "      <th>459056</th>\n",
       "      <td>B01FBH8Q0C</td>\n",
       "      <td>A1Y5JLM1NOQOS</td>\n",
       "      <td>5.0</td>\n",
       "      <td>1537920000</td>\n",
       "    </tr>\n",
       "    <tr>\n",
       "      <th>458988</th>\n",
       "      <td>B01F70HHBC</td>\n",
       "      <td>A3ABW7RWERHVT</td>\n",
       "      <td>5.0</td>\n",
       "      <td>1537920000</td>\n",
       "    </tr>\n",
       "    <tr>\n",
       "      <th>459346</th>\n",
       "      <td>B01H39M7ME</td>\n",
       "      <td>AK2IG0QYBFLXL</td>\n",
       "      <td>5.0</td>\n",
       "      <td>1538352000</td>\n",
       "    </tr>\n",
       "    <tr>\n",
       "      <th>459328</th>\n",
       "      <td>B01GWG6YUA</td>\n",
       "      <td>A3PL0JBSTH8ED1</td>\n",
       "      <td>5.0</td>\n",
       "      <td>1538352000</td>\n",
       "    </tr>\n",
       "    <tr>\n",
       "      <th>459327</th>\n",
       "      <td>B01GWG6YUA</td>\n",
       "      <td>ANL4WPP7M48RZ</td>\n",
       "      <td>1.0</td>\n",
       "      <td>1538438400</td>\n",
       "    </tr>\n",
       "  </tbody>\n",
       "</table>\n",
       "</div>"
      ],
      "text/plain": [
       "              asin      reviewerID  overall  unixReviewTime\n",
       "458767  B01EB06QUM  A1JWEJ8SBX44X5      1.0      1537574400\n",
       "459194  B01G1KFQXS  A2EEV3TT7PZD2E      1.0      1537574400\n",
       "458929  B01EYEJQBG  A1J89TODYY8RBH      5.0      1537574400\n",
       "459376  B01HAP3NJM  A3HCDCB1UO7EOZ      3.0      1537660800\n",
       "459335  B01H10L9QU  A1A6HJMP7EYSYS      1.0      1537747200\n",
       "459056  B01FBH8Q0C   A1Y5JLM1NOQOS      5.0      1537920000\n",
       "458988  B01F70HHBC   A3ABW7RWERHVT      5.0      1537920000\n",
       "459346  B01H39M7ME   AK2IG0QYBFLXL      5.0      1538352000\n",
       "459328  B01GWG6YUA  A3PL0JBSTH8ED1      5.0      1538352000\n",
       "459327  B01GWG6YUA   ANL4WPP7M48RZ      1.0      1538438400"
      ]
     },
     "execution_count": 7,
     "metadata": {},
     "output_type": "execute_result"
    }
   ],
   "source": [
    "df.tail(10)"
   ]
  },
  {
   "cell_type": "markdown",
   "metadata": {},
   "source": [
    "2.Проведите базовый EDA - распределения рейтингов, количество уникальных товаров и т.д"
   ]
  },
  {
   "cell_type": "code",
   "execution_count": 8,
   "metadata": {},
   "outputs": [
    {
     "name": "stdout",
     "output_type": "stream",
     "text": [
      "<class 'pandas.core.frame.DataFrame'>\n",
      "Int64Index: 459435 entries, 413423 to 459327\n",
      "Data columns (total 4 columns):\n",
      " #   Column          Non-Null Count   Dtype  \n",
      "---  ------          --------------   -----  \n",
      " 0   asin            459435 non-null  object \n",
      " 1   reviewerID      459435 non-null  object \n",
      " 2   overall         459435 non-null  float64\n",
      " 3   unixReviewTime  459435 non-null  int64  \n",
      "dtypes: float64(1), int64(1), object(2)\n",
      "memory usage: 17.5+ MB\n"
     ]
    }
   ],
   "source": [
    "df.info()"
   ]
  },
  {
   "cell_type": "code",
   "execution_count": 9,
   "metadata": {},
   "outputs": [
    {
     "data": {
      "text/plain": [
       "asin              0\n",
       "reviewerID        0\n",
       "overall           0\n",
       "unixReviewTime    0\n",
       "dtype: int64"
      ]
     },
     "execution_count": 9,
     "metadata": {},
     "output_type": "execute_result"
    }
   ],
   "source": [
    "df.isnull().sum()"
   ]
  },
  {
   "cell_type": "code",
   "execution_count": 10,
   "metadata": {},
   "outputs": [],
   "source": [
    "software_user = df.groupby('asin')['reviewerID'].count()"
   ]
  },
  {
   "cell_type": "code",
   "execution_count": 11,
   "metadata": {},
   "outputs": [
    {
     "data": {
      "text/plain": [
       "21663"
      ]
     },
     "execution_count": 11,
     "metadata": {},
     "output_type": "execute_result"
    }
   ],
   "source": [
    "#Кол-во уникальных товаров\n",
    "df['asin'].nunique()"
   ]
  },
  {
   "cell_type": "code",
   "execution_count": 12,
   "metadata": {},
   "outputs": [
    {
     "data": {
      "text/plain": [
       "375146"
      ]
     },
     "execution_count": 12,
     "metadata": {},
     "output_type": "execute_result"
    }
   ],
   "source": [
    "#Кол-во уникальных пользователей\n",
    "df['reviewerID'].nunique()"
   ]
  },
  {
   "cell_type": "code",
   "execution_count": 13,
   "metadata": {},
   "outputs": [
    {
     "data": {
      "text/plain": [
       "asin              459435\n",
       "reviewerID        459435\n",
       "overall           459435\n",
       "unixReviewTime    459435\n",
       "dtype: int64"
      ]
     },
     "execution_count": 13,
     "metadata": {},
     "output_type": "execute_result"
    }
   ],
   "source": [
    "df.count()"
   ]
  },
  {
   "cell_type": "code",
   "execution_count": 14,
   "metadata": {},
   "outputs": [
    {
     "data": {
      "text/plain": [
       "5"
      ]
     },
     "execution_count": 14,
     "metadata": {},
     "output_type": "execute_result"
    }
   ],
   "source": [
    "df['overall'].nunique()"
   ]
  },
  {
   "cell_type": "code",
   "execution_count": 15,
   "metadata": {},
   "outputs": [
    {
     "data": {
      "text/plain": [
       "array([1., 5., 4., 2., 3.])"
      ]
     },
     "execution_count": 15,
     "metadata": {},
     "output_type": "execute_result"
    }
   ],
   "source": [
    "df['overall'].unique()"
   ]
  },
  {
   "cell_type": "code",
   "execution_count": 16,
   "metadata": {},
   "outputs": [
    {
     "data": {
      "text/plain": [
       "<seaborn.axisgrid.FacetGrid at 0x7f0c88e708d0>"
      ]
     },
     "execution_count": 16,
     "metadata": {},
     "output_type": "execute_result"
    },
    {
     "data": {
      "image/png": "[encoded data removed]",
      "text/plain": [
       "<Figure size 576x576 with 1 Axes>"
      ]
     },
     "metadata": {},
     "output_type": "display_data"
    }
   ],
   "source": [
    "#Распределение рейтингов\n",
    "sns.set(font_scale=1.5)\n",
    "sns.catplot(\"overall\", data=df, kind=\"count\", height=8)"
   ]
  },
  {
   "cell_type": "code",
   "execution_count": 17,
   "metadata": {},
   "outputs": [
    {
     "data": {
      "image/png": "[encoded data removed]",
      "text/plain": [
       "<Figure size 1152x576 with 1 Axes>"
      ]
     },
     "metadata": {},
     "output_type": "display_data"
    }
   ],
   "source": [
    "plt.figure(figsize=(16, 8))\n",
    "sns.distplot(software_user.values, color='blue')\n",
    "plt.gca().spines['top'].set_visible(False)\n",
    "plt.gca().spines['right'].set_visible(False)\n",
    "plt.show();"
   ]
  },
  {
   "cell_type": "code",
   "execution_count": 18,
   "metadata": {},
   "outputs": [
    {
     "name": "stdout",
     "output_type": "stream",
     "text": [
      "A software for an average of 21.20828140146794 users, with minimum 1 and maximum 8994 users\n"
     ]
    }
   ],
   "source": [
    "print(f\"A software for an average of {np.mean(software_user)} users, with minimum {np.min(software_user)} and maximum {np.max(software_user)} users\")"
   ]
  },
  {
   "cell_type": "markdown",
   "metadata": {},
   "source": [
    "Уже понятно, что мы работаем с очень разреженной матрицей. Потребуется, много оперативной памяти и ресурсов для операций над подобной матрицей. Для того, чтобы облегчить вычисления, попробуем выбрать снова всех тех юзеров, которые оценивали, как минимум 5 програмных обеспечений. Более того, мы собираемся выбирать програмное обеспечение, которое было оценено не менее чем 20 пользователями."
   ]
  },
  {
   "cell_type": "code",
   "execution_count": 19,
   "metadata": {},
   "outputs": [],
   "source": [
    "# сколько песен слушал пользователь\n",
    "user_counts = df.groupby('reviewerID')['asin'].count()\n",
    "\n",
    "# Фильтрация юзеров с 16 песнями\n",
    "user_id = user_counts[user_counts > 5].index.to_list()"
   ]
  },
  {
   "cell_type": "code",
   "execution_count": 20,
   "metadata": {},
   "outputs": [],
   "source": [
    "# Сколько оценивали пользователей\n",
    "sw_counts = df.groupby('asin')['reviewerID'].count()\n",
    "\n",
    "# Оценено больше 20 пользователями\n",
    "sw_id = sw_counts[sw_counts > 20].index.to_list()"
   ]
  },
  {
   "cell_type": "code",
   "execution_count": 21,
   "metadata": {},
   "outputs": [],
   "source": [
    "# Фильтрация набора\n",
    "df_reduced = df[(df['reviewerID'].isin(user_id)) & (df['asin'].isin(sw_id))]"
   ]
  },
  {
   "cell_type": "code",
   "execution_count": 22,
   "metadata": {},
   "outputs": [
    {
     "data": {
      "text/plain": [
       "(14964, 4)"
      ]
     },
     "execution_count": 22,
     "metadata": {},
     "output_type": "execute_result"
    }
   ],
   "source": [
    "df_reduced.shape"
   ]
  },
  {
   "cell_type": "code",
   "execution_count": 23,
   "metadata": {},
   "outputs": [
    {
     "data": {
      "text/html": [
       "<div>\n",
       "<style scoped>\n",
       "    .dataframe tbody tr th:only-of-type {\n",
       "        vertical-align: middle;\n",
       "    }\n",
       "\n",
       "    .dataframe tbody tr th {\n",
       "        vertical-align: top;\n",
       "    }\n",
       "\n",
       "    .dataframe thead th {\n",
       "        text-align: right;\n",
       "    }\n",
       "</style>\n",
       "<table border=\"1\" class=\"dataframe\">\n",
       "  <thead>\n",
       "    <tr style=\"text-align: right;\">\n",
       "      <th></th>\n",
       "      <th>asin</th>\n",
       "      <th>reviewerID</th>\n",
       "      <th>overall</th>\n",
       "      <th>unixReviewTime</th>\n",
       "    </tr>\n",
       "  </thead>\n",
       "  <tbody>\n",
       "    <tr>\n",
       "      <th>4027</th>\n",
       "      <td>B00003JAU7</td>\n",
       "      <td>A1KJ94X41TJLX0</td>\n",
       "      <td>1.0</td>\n",
       "      <td>950745600</td>\n",
       "    </tr>\n",
       "    <tr>\n",
       "      <th>4154</th>\n",
       "      <td>B00003ZANM</td>\n",
       "      <td>A1M5P9TYPKHYLF</td>\n",
       "      <td>4.0</td>\n",
       "      <td>952128000</td>\n",
       "    </tr>\n",
       "    <tr>\n",
       "      <th>4137</th>\n",
       "      <td>B00003JAU7</td>\n",
       "      <td>A3C1MJ6AYAJ1PP</td>\n",
       "      <td>4.0</td>\n",
       "      <td>952387200</td>\n",
       "    </tr>\n",
       "    <tr>\n",
       "      <th>3657</th>\n",
       "      <td>B00002SFM4</td>\n",
       "      <td>AJPH8OQSWKR7K</td>\n",
       "      <td>4.0</td>\n",
       "      <td>955324800</td>\n",
       "    </tr>\n",
       "    <tr>\n",
       "      <th>3731</th>\n",
       "      <td>B00002SA8D</td>\n",
       "      <td>A243HY69GIAHFI</td>\n",
       "      <td>4.0</td>\n",
       "      <td>956016000</td>\n",
       "    </tr>\n",
       "    <tr>\n",
       "      <th>3650</th>\n",
       "      <td>B00002SFM4</td>\n",
       "      <td>AZWTRKAX60DLB</td>\n",
       "      <td>2.0</td>\n",
       "      <td>957744000</td>\n",
       "    </tr>\n",
       "    <tr>\n",
       "      <th>3646</th>\n",
       "      <td>B00002SFM4</td>\n",
       "      <td>A3C1MJ6AYAJ1PP</td>\n",
       "      <td>1.0</td>\n",
       "      <td>958435200</td>\n",
       "    </tr>\n",
       "    <tr>\n",
       "      <th>2972</th>\n",
       "      <td>B00000K4KT</td>\n",
       "      <td>AT2BYFEVLVITT</td>\n",
       "      <td>5.0</td>\n",
       "      <td>958694400</td>\n",
       "    </tr>\n",
       "    <tr>\n",
       "      <th>4340</th>\n",
       "      <td>B00004TYCR</td>\n",
       "      <td>A2G0O4Y8QE10AE</td>\n",
       "      <td>5.0</td>\n",
       "      <td>961977600</td>\n",
       "    </tr>\n",
       "    <tr>\n",
       "      <th>3045</th>\n",
       "      <td>B00001XDWZ</td>\n",
       "      <td>A15IZQLN9J5CCQ</td>\n",
       "      <td>5.0</td>\n",
       "      <td>963705600</td>\n",
       "    </tr>\n",
       "  </tbody>\n",
       "</table>\n",
       "</div>"
      ],
      "text/plain": [
       "            asin      reviewerID  overall  unixReviewTime\n",
       "4027  B00003JAU7  A1KJ94X41TJLX0      1.0       950745600\n",
       "4154  B00003ZANM  A1M5P9TYPKHYLF      4.0       952128000\n",
       "4137  B00003JAU7  A3C1MJ6AYAJ1PP      4.0       952387200\n",
       "3657  B00002SFM4   AJPH8OQSWKR7K      4.0       955324800\n",
       "3731  B00002SA8D  A243HY69GIAHFI      4.0       956016000\n",
       "3650  B00002SFM4   AZWTRKAX60DLB      2.0       957744000\n",
       "3646  B00002SFM4  A3C1MJ6AYAJ1PP      1.0       958435200\n",
       "2972  B00000K4KT   AT2BYFEVLVITT      5.0       958694400\n",
       "4340  B00004TYCR  A2G0O4Y8QE10AE      5.0       961977600\n",
       "3045  B00001XDWZ  A15IZQLN9J5CCQ      5.0       963705600"
      ]
     },
     "execution_count": 23,
     "metadata": {},
     "output_type": "execute_result"
    }
   ],
   "source": [
    "df_reduced.head(10)"
   ]
  },
  {
   "cell_type": "code",
   "execution_count": 24,
   "metadata": {},
   "outputs": [],
   "source": [
    "bins = [0, 1, 2, 3, 4, 5]"
   ]
  },
  {
   "cell_type": "code",
   "execution_count": 25,
   "metadata": {},
   "outputs": [
    {
     "name": "stderr",
     "output_type": "stream",
     "text": [
      "/home/nata/.local/lib/python3.6/site-packages/ipykernel_launcher.py:1: SettingWithCopyWarning: \n",
      "A value is trying to be set on a copy of a slice from a DataFrame.\n",
      "Try using .loc[row_indexer,col_indexer] = value instead\n",
      "\n",
      "See the caveats in the documentation: https://pandas.pydata.org/pandas-docs/stable/user_guide/indexing.html#returning-a-view-versus-a-copy\n",
      "  \"\"\"Entry point for launching an IPython kernel.\n"
     ]
    }
   ],
   "source": [
    "df_reduced['overall'] = pd.cut(df_reduced['overall'], bins=bins, labels=[1, 2, 3, 4, 5])"
   ]
  },
  {
   "cell_type": "code",
   "execution_count": 26,
   "metadata": {},
   "outputs": [],
   "source": [
    "overall_counts = pd.DataFrame(df_reduced.groupby('overall').size(), columns=['count']).reset_index(drop=False)"
   ]
  },
  {
   "cell_type": "code",
   "execution_count": 27,
   "metadata": {},
   "outputs": [
    {
     "data": {
      "image/png": "[encoded data removed]",
      "text/plain": [
       "<Figure size 1152x576 with 1 Axes>"
      ]
     },
     "metadata": {},
     "output_type": "display_data"
    }
   ],
   "source": [
    "plt.figure(figsize=(16, 8))\n",
    "sns.barplot(x='overall', y='count', palette='Set3', data=overall_counts)\n",
    "plt.gca().spines['top'].set_visible(False)\n",
    "plt.gca().spines['right'].set_visible(False)\n",
    "plt.show();"
   ]
  },
  {
   "cell_type": "code",
   "execution_count": 28,
   "metadata": {},
   "outputs": [],
   "source": [
    "reader = Reader(rating_scale=(1, 5))\n",
    "data = Dataset.load_from_df(df_reduced[['reviewerID', 'asin', 'overall']], reader)"
   ]
  },
  {
   "cell_type": "markdown",
   "metadata": {},
   "source": [
    "3.Отложите часть данных для тестирования. В рекомендательных системах для этого можно случайным образом “занулить” желаемый процент рейтингов в исходном датасете, чтобы получить “тренировочный набор”, и проверять качество ваших рекомендаций на этих уже не зануленных рейтингах. При этом, если у вас есть временная зависимость в данных, имеет смысл занулять рейтинги “из будущего”, чтобы обучаться на “исторических” покупках/просмотрах и т.д."
   ]
  },
  {
   "cell_type": "code",
   "execution_count": 29,
   "metadata": {},
   "outputs": [],
   "source": [
    "def timeseries_train_test_split(X, test_size):\n",
    "    \"\"\"\n",
    "        Perform train-test split with respect to time series structure\n",
    "    \"\"\"\n",
    "    test_index = int(len(X)*(1-test_size))\n",
    "    X_train = X\n",
    "    X_train.loc[test_index:, 'overall'] = 0\n",
    "    X_test = X.iloc[test_index:]\n",
    "    \n",
    "    \n",
    "    return X_train, X_test"
   ]
  },
  {
   "cell_type": "code",
   "execution_count": 30,
   "metadata": {},
   "outputs": [],
   "source": [
    "trainset, testset = train_test_split(data, test_size=.25)"
   ]
  },
  {
   "cell_type": "markdown",
   "metadata": {},
   "source": [
    "Мы будем использовать встроенную функцию для SVD. Для операции подбора гиперпараметров, будем использовать GridSearchCV, поскольку пространство поиска (количество параметров и их диапазон) не очень велики."
   ]
  },
  {
   "cell_type": "code",
   "execution_count": null,
   "metadata": {},
   "outputs": [],
   "source": [
    "param_grid = {'n_factors': [160], \n",
    "              'n_epochs': [100], \n",
    "              'lr_all': [0.001, 0.005],\n",
    "              'reg_all': [0.08, 0.1]}"
   ]
  },
  {
   "cell_type": "code",
   "execution_count": null,
   "metadata": {},
   "outputs": [],
   "source": [
    "grid_search_svd = GridSearchCV(SVD, param_grid, measures=['rmse'], cv=3, joblib_verbose=4, n_jobs=-2)"
   ]
  },
  {
   "cell_type": "code",
   "execution_count": null,
   "metadata": {},
   "outputs": [],
   "source": [
    "# ищем лучшие гиперпараметры модели\n",
    "grid_search_svd.fit(data)\n",
    "find_algo = grid_search_svd.best_estimator['rmse']\n",
    "print(grid_search_svd.best_score['rmse'])\n",
    "print(grid_search_svd.best_params['rmse'])"
   ]
  },
  {
   "cell_type": "code",
   "execution_count": null,
   "metadata": {},
   "outputs": [],
   "source": [
    "# кросс-валидируем\n",
    "cross_validate(find_algo, data, measures=['RMSE'], cv=5, verbose=True)"
   ]
  },
  {
   "cell_type": "code",
   "execution_count": null,
   "metadata": {},
   "outputs": [],
   "source": [
    "final_algorithm = SVD(n_factors=160, n_epochs=100, lr_all=0.005, reg_all=0.08)\n",
    "final_algorithm.fit(trainset)\n",
    "test_predictions = final_algorithm.test(testset)\n",
    "print(f\"The RMSE is {accuracy.rmse(test_predictions, verbose=True)}\")"
   ]
  }
 ],
 "metadata": {
  "kernelspec": {
   "display_name": "Python 3",
   "language": "python",
   "name": "python3"
  },
  "language_info": {
   "codemirror_mode": {
    "name": "ipython",
    "version": 3
   },
   "file_extension": ".py",
   "mimetype": "text/x-python",
   "name": "python",
   "nbconvert_exporter": "python",
   "pygments_lexer": "ipython3",
   "version": "3.6.9"
  }
 },
 "nbformat": 4,
 "nbformat_minor": 4
}
