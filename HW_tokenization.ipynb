{
 "cells": [
  {
   "cell_type": "markdown",
   "metadata": {},
   "source": [
    "Откуда берутся датасеты? Практический проект по сбору данных и работе с текстами\n",
    "Цель: В этом домашнем задании вам предстоит обойти все ловушки серверов, пробраться сквозь страницы html-код, собрать себе свой собственный датасет и натренировать на нём модель."
   ]
  },
  {
   "cell_type": "markdown",
   "metadata": {},
   "source": [
    "Часть 1. Парсинг\n",
    "\n",
    "По аналогии с занятием, возьмите интересующий вас сайт, на котором можно пособирать какие-то данные (и при этом API не предоставляется).\n",
    "Напишите свой парсер, который будет бегать по страничкам и автоматически что-то собирать."
   ]
  },
  {
   "cell_type": "code",
   "execution_count": 1,
   "metadata": {},
   "outputs": [],
   "source": [
    "import requests      # Библиотека для отправки запросов\n",
    "import numpy as np   # Библиотека для матриц, векторов и линала\n",
    "import pandas as pd  # Библиотека для табличек \n",
    "import time          # Библиотека для времени\n",
    "\n",
    "# подгрузим один из методов этой библиотеки\n",
    "from fake_useragent import UserAgent\n",
    "\n",
    "from bs4 import BeautifulSoup\n",
    "from tqdm import tqdm_notebook\n",
    "from itertools import groupby\n",
    "import re\n",
    "# подгрузим один из методов этой библиотеки\n",
    "from fake_useragent import UserAgent"
   ]
  },
  {
   "cell_type": "code",
   "execution_count": 2,
   "metadata": {},
   "outputs": [],
   "source": [
    "link = 'https://cdek.market/'"
   ]
  },
  {
   "cell_type": "code",
   "execution_count": 3,
   "metadata": {},
   "outputs": [],
   "source": [
    "main_page = 'https://cdek.market/c/307/telefony-i-aksessuary/'"
   ]
  },
  {
   "cell_type": "code",
   "execution_count": 4,
   "metadata": {},
   "outputs": [],
   "source": [
    "def get_soup(page_link:str):\n",
    "    response = requests.get(page_link, headers={'User-Agent': UserAgent().chrome})\n",
    "    if not response.ok:\n",
    "        return []\n",
    "    \n",
    "    html = response.content\n",
    "    soup = BeautifulSoup(html, 'html.parser')\n",
    "    return soup"
   ]
  },
  {
   "cell_type": "code",
   "execution_count": 5,
   "metadata": {},
   "outputs": [],
   "source": [
    "electronik_soup = get_soup(main_page)"
   ]
  },
  {
   "cell_type": "code",
   "execution_count": 6,
   "metadata": {},
   "outputs": [],
   "source": [
    "def get_ref(div_class, soup):\n",
    "    _refs = []\n",
    "    try:\n",
    "        refs = soup.find(\"div\", attrs={'class':div_class})\n",
    "        refs = refs.findAll(\"a\")\n",
    "        for cat in refs:\n",
    "            if 'href' in cat.attrs: \n",
    "                _refs.append(cat.attrs['href'])\n",
    "        _refs = [el for el, _ in groupby(_refs)]\n",
    "    except:\n",
    "        print(\"Something went wrong\")\n",
    "    finally: \n",
    "        return _refs"
   ]
  },
  {
   "cell_type": "code",
   "execution_count": 7,
   "metadata": {},
   "outputs": [],
   "source": [
    "categories = get_ref('ty-pagination__items', electronik_soup)"
   ]
  },
  {
   "cell_type": "code",
   "execution_count": 8,
   "metadata": {},
   "outputs": [
    {
     "data": {
      "text/plain": [
       "['https://cdek.market/c/307/telefony-i-aksessuary/page-2/',\n",
       " 'https://cdek.market/c/307/telefony-i-aksessuary/page-3/',\n",
       " 'https://cdek.market/c/307/telefony-i-aksessuary/page-4/',\n",
       " 'https://cdek.market/c/307/telefony-i-aksessuary/page-5/',\n",
       " 'https://cdek.market/c/307/telefony-i-aksessuary/page-6/',\n",
       " 'https://cdek.market/c/307/telefony-i-aksessuary/page-7/',\n",
       " 'https://cdek.market/c/307/telefony-i-aksessuary/page-8/']"
      ]
     },
     "execution_count": 8,
     "metadata": {},
     "output_type": "execute_result"
    }
   ],
   "source": [
    "categories"
   ]
  },
  {
   "cell_type": "markdown",
   "metadata": {},
   "source": [
    "Достаем инфу по товарам"
   ]
  },
  {
   "cell_type": "code",
   "execution_count": 9,
   "metadata": {},
   "outputs": [],
   "source": [
    "category_refs = []\n",
    "for category in categories:\n",
    "    product_soup = get_soup(category)\n",
    "    _category_refs = get_ref('grid-list', product_soup)\n",
    "    category_refs = category_refs + _category_refs"
   ]
  },
  {
   "cell_type": "code",
   "execution_count": 10,
   "metadata": {},
   "outputs": [
    {
     "data": {
      "text/plain": [
       "'https://cdek.market/p/231002/kreplenie-smartfona-na-armaturu-scepleniya-tormoza-x-grip-korotkiy-rychag-nu-trubu-s-u-skoboy-v-sbore/'"
      ]
     },
     "execution_count": 10,
     "metadata": {},
     "output_type": "execute_result"
    }
   ],
   "source": [
    "category_refs[0]"
   ]
  },
  {
   "cell_type": "code",
   "execution_count": 11,
   "metadata": {},
   "outputs": [],
   "source": [
    "product_soup = get_soup(category_refs[15])\n",
    "    "
   ]
  },
  {
   "cell_type": "code",
   "execution_count": 12,
   "metadata": {},
   "outputs": [
    {
     "data": {
      "text/plain": [
       "'Крепление смартфона на струбцине X-Grip® (короткий рычаг, в сборе)'"
      ]
     },
     "execution_count": 12,
     "metadata": {},
     "output_type": "execute_result"
    }
   ],
   "source": [
    "name = product_soup.find(\"h1\").text\n",
    "name"
   ]
  },
  {
   "cell_type": "code",
   "execution_count": 13,
   "metadata": {},
   "outputs": [
    {
     "data": {
      "text/plain": [
       "'Крепление состоит из универсального держателя с подпружиненным зажимом, который на шарнирном соединении через короткий рычаг 60мм., соединен с креплением-струбциной, которая может быть установлена на круглые/овальные трубы диаметром от 1,6 см до 3,8 см (0,625\"- 1,5\"). Универсальный держатель имеет искусную и умную конструкцию с четырьмя подпружиненными опорами, которые надежно фиксируют смартфон с достаточной силой, не закрывая собой экран. В нашем магазине большой ассортимент креплений Rammount'"
      ]
     },
     "execution_count": 13,
     "metadata": {},
     "output_type": "execute_result"
    }
   ],
   "source": [
    "text_about = product_soup.find(\"div\", attrs={'class':\"ty-wysiwyg-content content-description\"}).text.strip()\n",
    "text_about[:500]"
   ]
  },
  {
   "cell_type": "code",
   "execution_count": 14,
   "metadata": {},
   "outputs": [
    {
     "data": {
      "text/plain": [
       "17"
      ]
     },
     "execution_count": 14,
     "metadata": {},
     "output_type": "execute_result"
    }
   ],
   "source": [
    "amount = product_soup.find(\"span\", attrs={\"class\":\"ty-qty-in-stock ty-control-group__item\"}).text.strip()\n",
    "num_list = int(re.sub('[^0-9]+', '', amount))\n",
    "num_list"
   ]
  },
  {
   "cell_type": "code",
   "execution_count": 15,
   "metadata": {},
   "outputs": [],
   "source": [
    "def get_product_info(product_link):\n",
    "    try:\n",
    "        product_soup = get_soup(product_link)\n",
    "        name = product_soup.find(\"h1\").text.strip()\n",
    "        text_about = product_soup.find(\"div\", attrs={'class':\"ty-wysiwyg-content content-description\"}).text.strip()\n",
    "        amount = product_soup.find(\"span\", attrs={\"class\":\"ty-qty-in-stock ty-control-group__item\"}).text.strip()\n",
    "        price = product_soup.find(\"span\", attrs={\"class\":\"ty-price-num\"}).text.strip()\n",
    "        amount = re.sub('[^0-9]+', '', amount)\n",
    "        price = re.sub('[^0-9.]+', '', price)\n",
    "    except:\n",
    "        name = ''\n",
    "        text_about = ''\n",
    "        amount = '0'\n",
    "        price = '0'\n",
    "    return {'name':name, 'text':text_about, 'amount':amount, 'price':price}"
   ]
  },
  {
   "cell_type": "code",
   "execution_count": 16,
   "metadata": {},
   "outputs": [],
   "source": [
    "def get_products_info_df(main_page):\n",
    "    products_info = []\n",
    "    electronik_soup = get_soup(main_page)\n",
    "    pages = get_ref('ty-pagination__items', electronik_soup)\n",
    "    pages.append(main_page)\n",
    "    for page in pages:\n",
    "        page_soup = get_soup(page)\n",
    "        category_refs = get_ref('grid-list', page_soup)\n",
    "        for category_ref in category_refs:\n",
    "            _info = {}\n",
    "            _info = get_product_info(category_ref)\n",
    "            if _info['name'] and _info not in products_info:\n",
    "                product_info = {}\n",
    "                product_info['category'] = category_ref\n",
    "                product_info.update(_info)\n",
    "                products_info.append(product_info)\n",
    "            time.sleep(0.3)\n",
    "    products_df = pd.DataFrame(products_info)\n",
    "    return products_df"
   ]
  },
  {
   "cell_type": "code",
   "execution_count": 26,
   "metadata": {},
   "outputs": [],
   "source": [
    "products_df = get_products_info_df(main_page)"
   ]
  },
  {
   "cell_type": "code",
   "execution_count": 32,
   "metadata": {},
   "outputs": [],
   "source": [
    "products_df = products_df.drop_duplicates(['name','text','price'], keep='last')"
   ]
  },
  {
   "cell_type": "code",
   "execution_count": 33,
   "metadata": {},
   "outputs": [
    {
     "data": {
      "text/html": [
       "<div>\n",
       "<style scoped>\n",
       "    .dataframe tbody tr th:only-of-type {\n",
       "        vertical-align: middle;\n",
       "    }\n",
       "\n",
       "    .dataframe tbody tr th {\n",
       "        vertical-align: top;\n",
       "    }\n",
       "\n",
       "    .dataframe thead th {\n",
       "        text-align: right;\n",
       "    }\n",
       "</style>\n",
       "<table border=\"1\" class=\"dataframe\">\n",
       "  <thead>\n",
       "    <tr style=\"text-align: right;\">\n",
       "      <th></th>\n",
       "      <th>category</th>\n",
       "      <th>name</th>\n",
       "      <th>text</th>\n",
       "      <th>amount</th>\n",
       "      <th>price</th>\n",
       "    </tr>\n",
       "  </thead>\n",
       "  <tbody>\n",
       "    <tr>\n",
       "      <th>3</th>\n",
       "      <td>https://cdek.market/index.php?dispatch=product...</td>\n",
       "      <td>Крепление смартфона на арматуру сцепления/торм...</td>\n",
       "      <td>Универсальное крепление состоит из держателя с...</td>\n",
       "      <td>6</td>\n",
       "      <td>6800.00</td>\n",
       "    </tr>\n",
       "    <tr>\n",
       "      <th>7</th>\n",
       "      <td>https://cdek.market/index.php?dispatch=product...</td>\n",
       "      <td>Крепление смартфона на арматуру руля X-Grip® (...</td>\n",
       "      <td>Крепление состоит из универсального держателя ...</td>\n",
       "      <td>6</td>\n",
       "      <td>6440.00</td>\n",
       "    </tr>\n",
       "    <tr>\n",
       "      <th>11</th>\n",
       "      <td>https://cdek.market/index.php?dispatch=product...</td>\n",
       "      <td>Крепление смартфона на U-скобе X-Grip® (коротк...</td>\n",
       "      <td>Универсальное крепление состоит из держателя с...</td>\n",
       "      <td>13</td>\n",
       "      <td>5810.00</td>\n",
       "    </tr>\n",
       "    <tr>\n",
       "      <th>15</th>\n",
       "      <td>https://cdek.market/index.php?dispatch=product...</td>\n",
       "      <td>Крепление смартфона на струбцине X-Grip® (коро...</td>\n",
       "      <td>Крепление состоит из универсального держателя ...</td>\n",
       "      <td>17</td>\n",
       "      <td>7610.00</td>\n",
       "    </tr>\n",
       "    <tr>\n",
       "      <th>19</th>\n",
       "      <td>https://cdek.market/index.php?dispatch=product...</td>\n",
       "      <td>Крепление смартфона на U-скобе X-Grip® (станда...</td>\n",
       "      <td>Универсальное крепление RAM-B-149Z-A-UN10U сос...</td>\n",
       "      <td>13</td>\n",
       "      <td>6210.00</td>\n",
       "    </tr>\n",
       "    <tr>\n",
       "      <th>23</th>\n",
       "      <td>https://cdek.market/index.php?dispatch=product...</td>\n",
       "      <td>Крепление смартфона на U-скобе X-Grip® (станда...</td>\n",
       "      <td>Универсальное крепление состоит из держателя с...</td>\n",
       "      <td>13</td>\n",
       "      <td>5830.00</td>\n",
       "    </tr>\n",
       "    <tr>\n",
       "      <th>27</th>\n",
       "      <td>https://cdek.market/index.php?dispatch=product...</td>\n",
       "      <td>Держатель смартфона X-Grip®</td>\n",
       "      <td>Универсальный держатель RAM-HOL-UN10BU имеет и...</td>\n",
       "      <td>32</td>\n",
       "      <td>3460.00</td>\n",
       "    </tr>\n",
       "    <tr>\n",
       "      <th>31</th>\n",
       "      <td>https://cdek.market/index.php?dispatch=product...</td>\n",
       "      <td>Держатель смартфона X-Grip®</td>\n",
       "      <td>Универсальный держатель RAM-HOL-UN7BU имеет ис...</td>\n",
       "      <td>22</td>\n",
       "      <td>3070.00</td>\n",
       "    </tr>\n",
       "    <tr>\n",
       "      <th>35</th>\n",
       "      <td>https://cdek.market/index.php?dispatch=product...</td>\n",
       "      <td>Крепление смартфона на присоске X-Grip® (станд...</td>\n",
       "      <td>Универсальное крепление RAM-B-166-UN10U состои...</td>\n",
       "      <td>25</td>\n",
       "      <td>6440.00</td>\n",
       "    </tr>\n",
       "    <tr>\n",
       "      <th>39</th>\n",
       "      <td>https://cdek.market/index.php?dispatch=product...</td>\n",
       "      <td>Крепление смартфона на адаптере AMP X-Grip® (с...</td>\n",
       "      <td>Универсальное крепление состоит из держателя с...</td>\n",
       "      <td>4</td>\n",
       "      <td>5380.00</td>\n",
       "    </tr>\n",
       "  </tbody>\n",
       "</table>\n",
       "</div>"
      ],
      "text/plain": [
       "                                             category  \\\n",
       "3   https://cdek.market/index.php?dispatch=product...   \n",
       "7   https://cdek.market/index.php?dispatch=product...   \n",
       "11  https://cdek.market/index.php?dispatch=product...   \n",
       "15  https://cdek.market/index.php?dispatch=product...   \n",
       "19  https://cdek.market/index.php?dispatch=product...   \n",
       "23  https://cdek.market/index.php?dispatch=product...   \n",
       "27  https://cdek.market/index.php?dispatch=product...   \n",
       "31  https://cdek.market/index.php?dispatch=product...   \n",
       "35  https://cdek.market/index.php?dispatch=product...   \n",
       "39  https://cdek.market/index.php?dispatch=product...   \n",
       "\n",
       "                                                 name  \\\n",
       "3   Крепление смартфона на арматуру сцепления/торм...   \n",
       "7   Крепление смартфона на арматуру руля X-Grip® (...   \n",
       "11  Крепление смартфона на U-скобе X-Grip® (коротк...   \n",
       "15  Крепление смартфона на струбцине X-Grip® (коро...   \n",
       "19  Крепление смартфона на U-скобе X-Grip® (станда...   \n",
       "23  Крепление смартфона на U-скобе X-Grip® (станда...   \n",
       "27                        Держатель смартфона X-Grip®   \n",
       "31                        Держатель смартфона X-Grip®   \n",
       "35  Крепление смартфона на присоске X-Grip® (станд...   \n",
       "39  Крепление смартфона на адаптере AMP X-Grip® (с...   \n",
       "\n",
       "                                                 text amount    price  \n",
       "3   Универсальное крепление состоит из держателя с...      6  6800.00  \n",
       "7   Крепление состоит из универсального держателя ...      6  6440.00  \n",
       "11  Универсальное крепление состоит из держателя с...     13  5810.00  \n",
       "15  Крепление состоит из универсального держателя ...     17  7610.00  \n",
       "19  Универсальное крепление RAM-B-149Z-A-UN10U сос...     13  6210.00  \n",
       "23  Универсальное крепление состоит из держателя с...     13  5830.00  \n",
       "27  Универсальный держатель RAM-HOL-UN10BU имеет и...     32  3460.00  \n",
       "31  Универсальный держатель RAM-HOL-UN7BU имеет ис...     22  3070.00  \n",
       "35  Универсальное крепление RAM-B-166-UN10U состои...     25  6440.00  \n",
       "39  Универсальное крепление состоит из держателя с...      4  5380.00  "
      ]
     },
     "execution_count": 33,
     "metadata": {},
     "output_type": "execute_result"
    }
   ],
   "source": [
    "products_df.head(10)"
   ]
  },
  {
   "cell_type": "code",
   "execution_count": 34,
   "metadata": {},
   "outputs": [],
   "source": [
    "products_df.to_csv('~/parse.csv')"
   ]
  },
  {
   "cell_type": "markdown",
   "metadata": {},
   "source": [
    "Часть 2. NLP\n",
    "\n",
    "1. Разбейте собранные данные на train/test, отложив 20-30% наблюдений для тестирования\n",
    "2. Примените tf-idf преобразование для текстового описания. Используйте как отдельные токены, так и биграммы, отсейте стоп-слова, а также слова, которые встречаются слишком редко или слишком часто (параметры min/max_df), не забудьте убрать l2 регуляризацию, которая по умолчанию включена\n",
    "3. Если в вашем датасете целевая переменная непрерывная (например, среднее число просмотров в день), то воспользуйтесь линейной регрессией, если дискретная (положительный/отрицательный отзыв), то логистической\n",
    "4. Постройте регрессию с настройкой параметра регуляризации, оцените качество при помощи соответствующих задаче метрик\n",
    "5. Визуализируйте получившиеся коэффициенты регрессии (возьмите топ-50 слов). Проинтерпретируйте результаты."
   ]
  },
  {
   "cell_type": "code",
   "execution_count": null,
   "metadata": {},
   "outputs": [],
   "source": []
  }
 ],
 "metadata": {
  "kernelspec": {
   "display_name": "Python 3",
   "language": "python",
   "name": "python3"
  },
  "language_info": {
   "codemirror_mode": {
    "name": "ipython",
    "version": 3
   },
   "file_extension": ".py",
   "mimetype": "text/x-python",
   "name": "python",
   "nbconvert_exporter": "python",
   "pygments_lexer": "ipython3",
   "version": "3.6.9"
  }
 },
 "nbformat": 4,
 "nbformat_minor": 4
}
