{
 "cells": [
  {
   "cell_type": "markdown",
   "metadata": {},
   "source": [
    "Откуда берутся датасеты? Практический проект по сбору данных и работе с текстами\n",
    "Цель: В этом домашнем задании вам предстоит обойти все ловушки серверов, пробраться сквозь страницы html-код, собрать себе свой собственный датасет и натренировать на нём модель."
   ]
  },
  {
   "cell_type": "markdown",
   "metadata": {},
   "source": [
    "Часть 1. Парсинг\n",
    "\n",
    "По аналогии с занятием, возьмите интересующий вас сайт, на котором можно пособирать какие-то данные (и при этом API не предоставляется).\n",
    "Напишите свой парсер, который будет бегать по страничкам и автоматически что-то собирать."
   ]
  },
  {
   "cell_type": "code",
   "execution_count": 39,
   "metadata": {},
   "outputs": [
    {
     "name": "stderr",
     "output_type": "stream",
     "text": [
      "[nltk_data] Downloading package punkt to /home/nata/nltk_data...\n",
      "[nltk_data]   Package punkt is already up-to-date!\n"
     ]
    }
   ],
   "source": [
    "import requests      # Библиотека для отправки запросов\n",
    "import numpy as np   # Библиотека для матриц, векторов и линала\n",
    "import pandas as pd  # Библиотека для табличек \n",
    "import time          # Библиотека для времени\n",
    "\n",
    "# подгрузим один из методов этой библиотеки\n",
    "from fake_useragent import UserAgent\n",
    "\n",
    "from bs4 import BeautifulSoup\n",
    "from tqdm import tqdm_notebook\n",
    "from itertools import groupby\n",
    "import re\n",
    "# подгрузим один из методов этой библиотеки\n",
    "from fake_useragent import UserAgent\n",
    "from ftfy import fix_text\n",
    "from sklearn.model_selection import train_test_split\n",
    "import nltk\n",
    "nltk.download('punkt')\n",
    "from nltk import word_tokenize,sent_tokenize\n",
    "import string\n",
    "from nltk.corpus import stopwords\n",
    "nltk.download('stopwords')\n",
    "import pymorphy2\n",
    "from collections import Counter\n",
    "from sklearn.feature_extraction import DictVectorizer\n",
    "from sklearn.feature_extraction.text import TfidfVectorizer\n",
    "from sklearn.utils import shuffle "
   ]
  },
  {
   "cell_type": "code",
   "execution_count": 2,
   "metadata": {},
   "outputs": [],
   "source": [
    "link = 'https://cdek.market/'"
   ]
  },
  {
   "cell_type": "code",
   "execution_count": 3,
   "metadata": {},
   "outputs": [],
   "source": [
    "main_page = 'https://cdek.market/c/307/telefony-i-aksessuary/'"
   ]
  },
  {
   "cell_type": "code",
   "execution_count": 4,
   "metadata": {},
   "outputs": [],
   "source": [
    "def get_soup(page_link:str):\n",
    "    response = requests.get(page_link, headers={'User-Agent': UserAgent().chrome})\n",
    "    if not response.ok:\n",
    "        return []\n",
    "    \n",
    "    html = response.content\n",
    "    soup = BeautifulSoup(html, 'html.parser')\n",
    "    return soup"
   ]
  },
  {
   "cell_type": "code",
   "execution_count": 5,
   "metadata": {},
   "outputs": [],
   "source": [
    "electronik_soup = get_soup(main_page)"
   ]
  },
  {
   "cell_type": "code",
   "execution_count": 6,
   "metadata": {},
   "outputs": [],
   "source": [
    "def get_ref(div_class, soup):\n",
    "    _refs = []\n",
    "    try:\n",
    "        refs = soup.find(\"div\", attrs={'class':div_class})\n",
    "        refs = refs.findAll(\"a\")\n",
    "        for cat in refs:\n",
    "            if 'href' in cat.attrs: \n",
    "                _refs.append(cat.attrs['href'])\n",
    "        _refs = [el for el, _ in groupby(_refs)]\n",
    "    except:\n",
    "        print(\"Something went wrong\")\n",
    "    finally: \n",
    "        return _refs"
   ]
  },
  {
   "cell_type": "code",
   "execution_count": 7,
   "metadata": {},
   "outputs": [],
   "source": [
    "categories = get_ref('ty-pagination__items', electronik_soup)"
   ]
  },
  {
   "cell_type": "code",
   "execution_count": 8,
   "metadata": {},
   "outputs": [
    {
     "data": {
      "text/plain": [
       "['https://cdek.market/c/307/telefony-i-aksessuary/page-2/',\n",
       " 'https://cdek.market/c/307/telefony-i-aksessuary/page-3/',\n",
       " 'https://cdek.market/c/307/telefony-i-aksessuary/page-4/',\n",
       " 'https://cdek.market/c/307/telefony-i-aksessuary/page-5/',\n",
       " 'https://cdek.market/c/307/telefony-i-aksessuary/page-6/',\n",
       " 'https://cdek.market/c/307/telefony-i-aksessuary/page-7/',\n",
       " 'https://cdek.market/c/307/telefony-i-aksessuary/page-8/']"
      ]
     },
     "execution_count": 8,
     "metadata": {},
     "output_type": "execute_result"
    }
   ],
   "source": [
    "categories"
   ]
  },
  {
   "cell_type": "markdown",
   "metadata": {},
   "source": [
    "Достаем инфу по товарам"
   ]
  },
  {
   "cell_type": "code",
   "execution_count": 9,
   "metadata": {},
   "outputs": [],
   "source": [
    "category_refs = []\n",
    "for category in categories:\n",
    "    product_soup = get_soup(category)\n",
    "    _category_refs = get_ref('grid-list', product_soup)\n",
    "    category_refs = category_refs + _category_refs"
   ]
  },
  {
   "cell_type": "code",
   "execution_count": 10,
   "metadata": {},
   "outputs": [
    {
     "data": {
      "text/plain": [
       "'https://cdek.market/p/231002/kreplenie-smartfona-na-armaturu-scepleniya-tormoza-x-grip-korotkiy-rychag-nu-trubu-s-u-skoboy-v-sbore/'"
      ]
     },
     "execution_count": 10,
     "metadata": {},
     "output_type": "execute_result"
    }
   ],
   "source": [
    "category_refs[0]"
   ]
  },
  {
   "cell_type": "code",
   "execution_count": 11,
   "metadata": {},
   "outputs": [],
   "source": [
    "product_soup = get_soup(category_refs[15])\n",
    "    "
   ]
  },
  {
   "cell_type": "code",
   "execution_count": 12,
   "metadata": {},
   "outputs": [
    {
     "data": {
      "text/plain": [
       "'Крепление смартфона на струбцине X-Grip® (короткий рычаг, в сборе)'"
      ]
     },
     "execution_count": 12,
     "metadata": {},
     "output_type": "execute_result"
    }
   ],
   "source": [
    "name = product_soup.find(\"h1\").text\n",
    "name"
   ]
  },
  {
   "cell_type": "code",
   "execution_count": 13,
   "metadata": {},
   "outputs": [
    {
     "data": {
      "text/plain": [
       "'Крепление состоит из универсального держателя с подпружиненным зажимом, который на шарнирном соединении через короткий рычаг 60мм., соединен с креплением-струбциной, которая может быть установлена на круглые/овальные трубы диаметром от 1,6 см до 3,8 см (0,625\"- 1,5\"). Универсальный держатель имеет искусную и умную конструкцию с четырьмя подпружиненными опорами, которые надежно фиксируют смартфон с достаточной силой, не закрывая собой экран. В нашем магазине большой ассортимент креплений Rammount'"
      ]
     },
     "execution_count": 13,
     "metadata": {},
     "output_type": "execute_result"
    }
   ],
   "source": [
    "text_about = product_soup.find(\"div\", attrs={'class':\"ty-wysiwyg-content content-description\"}).text.strip()\n",
    "text_about[:500]"
   ]
  },
  {
   "cell_type": "code",
   "execution_count": 14,
   "metadata": {},
   "outputs": [
    {
     "data": {
      "text/plain": [
       "17"
      ]
     },
     "execution_count": 14,
     "metadata": {},
     "output_type": "execute_result"
    }
   ],
   "source": [
    "amount = product_soup.find(\"span\", attrs={\"class\":\"ty-qty-in-stock ty-control-group__item\"}).text.strip()\n",
    "num_list = int(re.sub('[^0-9]+', '', amount))\n",
    "num_list"
   ]
  },
  {
   "cell_type": "code",
   "execution_count": 15,
   "metadata": {},
   "outputs": [],
   "source": [
    "def get_product_info(product_link):\n",
    "    try:\n",
    "        product_soup = get_soup(product_link)\n",
    "        name = product_soup.find(\"h1\").text.strip()\n",
    "        text_about = product_soup.find(\"div\", attrs={'class':\"ty-wysiwyg-content content-description\"}).text.strip()\n",
    "        amount = product_soup.find(\"span\", attrs={\"class\":\"ty-qty-in-stock ty-control-group__item\"}).text.strip()\n",
    "        price = product_soup.find(\"span\", attrs={\"class\":\"ty-price-num\"}).text.strip()\n",
    "        amount = re.sub('[^0-9]+', '', amount)\n",
    "        price = re.sub('[^0-9.]+', '', price)\n",
    "    except:\n",
    "        name = ''\n",
    "        text_about = ''\n",
    "        amount = '0'\n",
    "        price = '0'\n",
    "    return {'name':name, 'text':text_about, 'amount':amount, 'price':price}"
   ]
  },
  {
   "cell_type": "code",
   "execution_count": 16,
   "metadata": {},
   "outputs": [],
   "source": [
    "def get_products_info_df(main_page):\n",
    "    products_info = []\n",
    "    electronik_soup = get_soup(main_page)\n",
    "    pages = get_ref('ty-pagination__items', electronik_soup)\n",
    "    pages.append(main_page)\n",
    "    for page in pages:\n",
    "        page_soup = get_soup(page)\n",
    "        category_refs = get_ref('grid-list', page_soup)\n",
    "        for category_ref in category_refs:\n",
    "            _info = {}\n",
    "            _info = get_product_info(category_ref)\n",
    "            if _info['name'] and _info not in products_info:\n",
    "                product_info = {}\n",
    "                product_info['category'] = category_ref\n",
    "                product_info.update(_info)\n",
    "                products_info.append(product_info)\n",
    "            time.sleep(0.3)\n",
    "    products_df = pd.DataFrame(products_info)\n",
    "    return products_df"
   ]
  },
  {
   "cell_type": "code",
   "execution_count": 26,
   "metadata": {},
   "outputs": [],
   "source": [
    "products_df = get_products_info_df(main_page)"
   ]
  },
  {
   "cell_type": "code",
   "execution_count": 32,
   "metadata": {},
   "outputs": [],
   "source": [
    "products_df = products_df.drop_duplicates(['name','text','price'], keep='last')"
   ]
  },
  {
   "cell_type": "code",
   "execution_count": 33,
   "metadata": {},
   "outputs": [
    {
     "data": {
      "text/html": [
       "<div>\n",
       "<style scoped>\n",
       "    .dataframe tbody tr th:only-of-type {\n",
       "        vertical-align: middle;\n",
       "    }\n",
       "\n",
       "    .dataframe tbody tr th {\n",
       "        vertical-align: top;\n",
       "    }\n",
       "\n",
       "    .dataframe thead th {\n",
       "        text-align: right;\n",
       "    }\n",
       "</style>\n",
       "<table border=\"1\" class=\"dataframe\">\n",
       "  <thead>\n",
       "    <tr style=\"text-align: right;\">\n",
       "      <th></th>\n",
       "      <th>category</th>\n",
       "      <th>name</th>\n",
       "      <th>text</th>\n",
       "      <th>amount</th>\n",
       "      <th>price</th>\n",
       "    </tr>\n",
       "  </thead>\n",
       "  <tbody>\n",
       "    <tr>\n",
       "      <th>3</th>\n",
       "      <td>https://cdek.market/index.php?dispatch=product...</td>\n",
       "      <td>Крепление смартфона на арматуру сцепления/торм...</td>\n",
       "      <td>Универсальное крепление состоит из держателя с...</td>\n",
       "      <td>6</td>\n",
       "      <td>6800.00</td>\n",
       "    </tr>\n",
       "    <tr>\n",
       "      <th>7</th>\n",
       "      <td>https://cdek.market/index.php?dispatch=product...</td>\n",
       "      <td>Крепление смартфона на арматуру руля X-Grip® (...</td>\n",
       "      <td>Крепление состоит из универсального держателя ...</td>\n",
       "      <td>6</td>\n",
       "      <td>6440.00</td>\n",
       "    </tr>\n",
       "    <tr>\n",
       "      <th>11</th>\n",
       "      <td>https://cdek.market/index.php?dispatch=product...</td>\n",
       "      <td>Крепление смартфона на U-скобе X-Grip® (коротк...</td>\n",
       "      <td>Универсальное крепление состоит из держателя с...</td>\n",
       "      <td>13</td>\n",
       "      <td>5810.00</td>\n",
       "    </tr>\n",
       "    <tr>\n",
       "      <th>15</th>\n",
       "      <td>https://cdek.market/index.php?dispatch=product...</td>\n",
       "      <td>Крепление смартфона на струбцине X-Grip® (коро...</td>\n",
       "      <td>Крепление состоит из универсального держателя ...</td>\n",
       "      <td>17</td>\n",
       "      <td>7610.00</td>\n",
       "    </tr>\n",
       "    <tr>\n",
       "      <th>19</th>\n",
       "      <td>https://cdek.market/index.php?dispatch=product...</td>\n",
       "      <td>Крепление смартфона на U-скобе X-Grip® (станда...</td>\n",
       "      <td>Универсальное крепление RAM-B-149Z-A-UN10U сос...</td>\n",
       "      <td>13</td>\n",
       "      <td>6210.00</td>\n",
       "    </tr>\n",
       "    <tr>\n",
       "      <th>23</th>\n",
       "      <td>https://cdek.market/index.php?dispatch=product...</td>\n",
       "      <td>Крепление смартфона на U-скобе X-Grip® (станда...</td>\n",
       "      <td>Универсальное крепление состоит из держателя с...</td>\n",
       "      <td>13</td>\n",
       "      <td>5830.00</td>\n",
       "    </tr>\n",
       "    <tr>\n",
       "      <th>27</th>\n",
       "      <td>https://cdek.market/index.php?dispatch=product...</td>\n",
       "      <td>Держатель смартфона X-Grip®</td>\n",
       "      <td>Универсальный держатель RAM-HOL-UN10BU имеет и...</td>\n",
       "      <td>32</td>\n",
       "      <td>3460.00</td>\n",
       "    </tr>\n",
       "    <tr>\n",
       "      <th>31</th>\n",
       "      <td>https://cdek.market/index.php?dispatch=product...</td>\n",
       "      <td>Держатель смартфона X-Grip®</td>\n",
       "      <td>Универсальный держатель RAM-HOL-UN7BU имеет ис...</td>\n",
       "      <td>22</td>\n",
       "      <td>3070.00</td>\n",
       "    </tr>\n",
       "    <tr>\n",
       "      <th>35</th>\n",
       "      <td>https://cdek.market/index.php?dispatch=product...</td>\n",
       "      <td>Крепление смартфона на присоске X-Grip® (станд...</td>\n",
       "      <td>Универсальное крепление RAM-B-166-UN10U состои...</td>\n",
       "      <td>25</td>\n",
       "      <td>6440.00</td>\n",
       "    </tr>\n",
       "    <tr>\n",
       "      <th>39</th>\n",
       "      <td>https://cdek.market/index.php?dispatch=product...</td>\n",
       "      <td>Крепление смартфона на адаптере AMP X-Grip® (с...</td>\n",
       "      <td>Универсальное крепление состоит из держателя с...</td>\n",
       "      <td>4</td>\n",
       "      <td>5380.00</td>\n",
       "    </tr>\n",
       "  </tbody>\n",
       "</table>\n",
       "</div>"
      ],
      "text/plain": [
       "                                             category  \\\n",
       "3   https://cdek.market/index.php?dispatch=product...   \n",
       "7   https://cdek.market/index.php?dispatch=product...   \n",
       "11  https://cdek.market/index.php?dispatch=product...   \n",
       "15  https://cdek.market/index.php?dispatch=product...   \n",
       "19  https://cdek.market/index.php?dispatch=product...   \n",
       "23  https://cdek.market/index.php?dispatch=product...   \n",
       "27  https://cdek.market/index.php?dispatch=product...   \n",
       "31  https://cdek.market/index.php?dispatch=product...   \n",
       "35  https://cdek.market/index.php?dispatch=product...   \n",
       "39  https://cdek.market/index.php?dispatch=product...   \n",
       "\n",
       "                                                 name  \\\n",
       "3   Крепление смартфона на арматуру сцепления/торм...   \n",
       "7   Крепление смартфона на арматуру руля X-Grip® (...   \n",
       "11  Крепление смартфона на U-скобе X-Grip® (коротк...   \n",
       "15  Крепление смартфона на струбцине X-Grip® (коро...   \n",
       "19  Крепление смартфона на U-скобе X-Grip® (станда...   \n",
       "23  Крепление смартфона на U-скобе X-Grip® (станда...   \n",
       "27                        Держатель смартфона X-Grip®   \n",
       "31                        Держатель смартфона X-Grip®   \n",
       "35  Крепление смартфона на присоске X-Grip® (станд...   \n",
       "39  Крепление смартфона на адаптере AMP X-Grip® (с...   \n",
       "\n",
       "                                                 text amount    price  \n",
       "3   Универсальное крепление состоит из держателя с...      6  6800.00  \n",
       "7   Крепление состоит из универсального держателя ...      6  6440.00  \n",
       "11  Универсальное крепление состоит из держателя с...     13  5810.00  \n",
       "15  Крепление состоит из универсального держателя ...     17  7610.00  \n",
       "19  Универсальное крепление RAM-B-149Z-A-UN10U сос...     13  6210.00  \n",
       "23  Универсальное крепление состоит из держателя с...     13  5830.00  \n",
       "27  Универсальный держатель RAM-HOL-UN10BU имеет и...     32  3460.00  \n",
       "31  Универсальный держатель RAM-HOL-UN7BU имеет ис...     22  3070.00  \n",
       "35  Универсальное крепление RAM-B-166-UN10U состои...     25  6440.00  \n",
       "39  Универсальное крепление состоит из держателя с...      4  5380.00  "
      ]
     },
     "execution_count": 33,
     "metadata": {},
     "output_type": "execute_result"
    }
   ],
   "source": [
    "products_df.head(10)"
   ]
  },
  {
   "cell_type": "code",
   "execution_count": 34,
   "metadata": {},
   "outputs": [],
   "source": [
    "products_df.to_csv('~/parse.csv')"
   ]
  },
  {
   "cell_type": "markdown",
   "metadata": {},
   "source": [
    "# Часть 2. NLP"
   ]
  },
  {
   "cell_type": "markdown",
   "metadata": {},
   "source": [
    "Часть 2. NLP\n",
    "\n",
    "1. Разбейте собранные данные на train/test, отложив 20-30% наблюдений для тестирования\n",
    "2. Примените tf-idf преобразование для текстового описания. Используйте как отдельные токены, так и биграммы, отсейте стоп-слова, а также слова, которые встречаются слишком редко или слишком часто (параметры min/max_df), не забудьте убрать l2 регуляризацию, которая по умолчанию включена\n",
    "3. Если в вашем датасете целевая переменная непрерывная (например, среднее число просмотров в день), то воспользуйтесь линейной регрессией, если дискретная (положительный/отрицательный отзыв), то логистической\n",
    "4. Постройте регрессию с настройкой параметра регуляризации, оцените качество при помощи соответствующих задаче метрик\n",
    "5. Визуализируйте получившиеся коэффициенты регрессии (возьмите топ-50 слов). Проинтерпретируйте результаты."
   ]
  },
  {
   "cell_type": "markdown",
   "metadata": {},
   "source": [
    "Ручной анализ"
   ]
  },
  {
   "cell_type": "code",
   "execution_count": 3,
   "metadata": {},
   "outputs": [],
   "source": [
    "data = pd.read_csv('~/parse.csv')"
   ]
  },
  {
   "cell_type": "code",
   "execution_count": 4,
   "metadata": {},
   "outputs": [
    {
     "data": {
      "text/html": [
       "<div>\n",
       "<style scoped>\n",
       "    .dataframe tbody tr th:only-of-type {\n",
       "        vertical-align: middle;\n",
       "    }\n",
       "\n",
       "    .dataframe tbody tr th {\n",
       "        vertical-align: top;\n",
       "    }\n",
       "\n",
       "    .dataframe thead th {\n",
       "        text-align: right;\n",
       "    }\n",
       "</style>\n",
       "<table border=\"1\" class=\"dataframe\">\n",
       "  <thead>\n",
       "    <tr style=\"text-align: right;\">\n",
       "      <th></th>\n",
       "      <th>Unnamed: 0</th>\n",
       "      <th>category</th>\n",
       "      <th>name</th>\n",
       "      <th>text</th>\n",
       "      <th>amount</th>\n",
       "      <th>price</th>\n",
       "    </tr>\n",
       "  </thead>\n",
       "  <tbody>\n",
       "    <tr>\n",
       "      <th>0</th>\n",
       "      <td>3</td>\n",
       "      <td>https://cdek.market/index.php?dispatch=product...</td>\n",
       "      <td>Крепление смартфона на арматуру сцепления/торм...</td>\n",
       "      <td>Универсальное крепление состоит из держателя с...</td>\n",
       "      <td>6</td>\n",
       "      <td>6800.0</td>\n",
       "    </tr>\n",
       "    <tr>\n",
       "      <th>1</th>\n",
       "      <td>7</td>\n",
       "      <td>https://cdek.market/index.php?dispatch=product...</td>\n",
       "      <td>Крепление смартфона на арматуру руля X-Grip® (...</td>\n",
       "      <td>Крепление состоит из универсального держателя ...</td>\n",
       "      <td>6</td>\n",
       "      <td>6440.0</td>\n",
       "    </tr>\n",
       "    <tr>\n",
       "      <th>2</th>\n",
       "      <td>11</td>\n",
       "      <td>https://cdek.market/index.php?dispatch=product...</td>\n",
       "      <td>Крепление смартфона на U-скобе X-Grip® (коротк...</td>\n",
       "      <td>Универсальное крепление состоит из держателя с...</td>\n",
       "      <td>13</td>\n",
       "      <td>5810.0</td>\n",
       "    </tr>\n",
       "    <tr>\n",
       "      <th>3</th>\n",
       "      <td>15</td>\n",
       "      <td>https://cdek.market/index.php?dispatch=product...</td>\n",
       "      <td>Крепление смартфона на струбцине X-Grip® (коро...</td>\n",
       "      <td>Крепление состоит из универсального держателя ...</td>\n",
       "      <td>17</td>\n",
       "      <td>7610.0</td>\n",
       "    </tr>\n",
       "    <tr>\n",
       "      <th>4</th>\n",
       "      <td>19</td>\n",
       "      <td>https://cdek.market/index.php?dispatch=product...</td>\n",
       "      <td>Крепление смартфона на U-скобе X-Grip® (станда...</td>\n",
       "      <td>Универсальное крепление RAM-B-149Z-A-UN10U сос...</td>\n",
       "      <td>13</td>\n",
       "      <td>6210.0</td>\n",
       "    </tr>\n",
       "    <tr>\n",
       "      <th>5</th>\n",
       "      <td>23</td>\n",
       "      <td>https://cdek.market/index.php?dispatch=product...</td>\n",
       "      <td>Крепление смартфона на U-скобе X-Grip® (станда...</td>\n",
       "      <td>Универсальное крепление состоит из держателя с...</td>\n",
       "      <td>13</td>\n",
       "      <td>5830.0</td>\n",
       "    </tr>\n",
       "    <tr>\n",
       "      <th>6</th>\n",
       "      <td>27</td>\n",
       "      <td>https://cdek.market/index.php?dispatch=product...</td>\n",
       "      <td>Держатель смартфона X-Grip®</td>\n",
       "      <td>Универсальный держатель RAM-HOL-UN10BU имеет и...</td>\n",
       "      <td>32</td>\n",
       "      <td>3460.0</td>\n",
       "    </tr>\n",
       "    <tr>\n",
       "      <th>7</th>\n",
       "      <td>31</td>\n",
       "      <td>https://cdek.market/index.php?dispatch=product...</td>\n",
       "      <td>Держатель смартфона X-Grip®</td>\n",
       "      <td>Универсальный держатель RAM-HOL-UN7BU имеет ис...</td>\n",
       "      <td>22</td>\n",
       "      <td>3070.0</td>\n",
       "    </tr>\n",
       "    <tr>\n",
       "      <th>8</th>\n",
       "      <td>35</td>\n",
       "      <td>https://cdek.market/index.php?dispatch=product...</td>\n",
       "      <td>Крепление смартфона на присоске X-Grip® (станд...</td>\n",
       "      <td>Универсальное крепление RAM-B-166-UN10U состои...</td>\n",
       "      <td>25</td>\n",
       "      <td>6440.0</td>\n",
       "    </tr>\n",
       "    <tr>\n",
       "      <th>9</th>\n",
       "      <td>39</td>\n",
       "      <td>https://cdek.market/index.php?dispatch=product...</td>\n",
       "      <td>Крепление смартфона на адаптере AMP X-Grip® (с...</td>\n",
       "      <td>Универсальное крепление состоит из держателя с...</td>\n",
       "      <td>4</td>\n",
       "      <td>5380.0</td>\n",
       "    </tr>\n",
       "  </tbody>\n",
       "</table>\n",
       "</div>"
      ],
      "text/plain": [
       "   Unnamed: 0                                           category  \\\n",
       "0           3  https://cdek.market/index.php?dispatch=product...   \n",
       "1           7  https://cdek.market/index.php?dispatch=product...   \n",
       "2          11  https://cdek.market/index.php?dispatch=product...   \n",
       "3          15  https://cdek.market/index.php?dispatch=product...   \n",
       "4          19  https://cdek.market/index.php?dispatch=product...   \n",
       "5          23  https://cdek.market/index.php?dispatch=product...   \n",
       "6          27  https://cdek.market/index.php?dispatch=product...   \n",
       "7          31  https://cdek.market/index.php?dispatch=product...   \n",
       "8          35  https://cdek.market/index.php?dispatch=product...   \n",
       "9          39  https://cdek.market/index.php?dispatch=product...   \n",
       "\n",
       "                                                name  \\\n",
       "0  Крепление смартфона на арматуру сцепления/торм...   \n",
       "1  Крепление смартфона на арматуру руля X-Grip® (...   \n",
       "2  Крепление смартфона на U-скобе X-Grip® (коротк...   \n",
       "3  Крепление смартфона на струбцине X-Grip® (коро...   \n",
       "4  Крепление смартфона на U-скобе X-Grip® (станда...   \n",
       "5  Крепление смартфона на U-скобе X-Grip® (станда...   \n",
       "6                        Держатель смартфона X-Grip®   \n",
       "7                        Держатель смартфона X-Grip®   \n",
       "8  Крепление смартфона на присоске X-Grip® (станд...   \n",
       "9  Крепление смартфона на адаптере AMP X-Grip® (с...   \n",
       "\n",
       "                                                text  amount   price  \n",
       "0  Универсальное крепление состоит из держателя с...       6  6800.0  \n",
       "1  Крепление состоит из универсального держателя ...       6  6440.0  \n",
       "2  Универсальное крепление состоит из держателя с...      13  5810.0  \n",
       "3  Крепление состоит из универсального держателя ...      17  7610.0  \n",
       "4  Универсальное крепление RAM-B-149Z-A-UN10U сос...      13  6210.0  \n",
       "5  Универсальное крепление состоит из держателя с...      13  5830.0  \n",
       "6  Универсальный держатель RAM-HOL-UN10BU имеет и...      32  3460.0  \n",
       "7  Универсальный держатель RAM-HOL-UN7BU имеет ис...      22  3070.0  \n",
       "8  Универсальное крепление RAM-B-166-UN10U состои...      25  6440.0  \n",
       "9  Универсальное крепление состоит из держателя с...       4  5380.0  "
      ]
     },
     "execution_count": 4,
     "metadata": {},
     "output_type": "execute_result"
    }
   ],
   "source": [
    "data.head(10)"
   ]
  },
  {
   "cell_type": "code",
   "execution_count": 6,
   "metadata": {},
   "outputs": [
    {
     "data": {
      "text/plain": [
       "Index(['Unnamed: 0', 'category', 'name', 'text', 'amount', 'price'], dtype='object')"
      ]
     },
     "execution_count": 6,
     "metadata": {},
     "output_type": "execute_result"
    }
   ],
   "source": [
    "data.columns"
   ]
  },
  {
   "cell_type": "code",
   "execution_count": 10,
   "metadata": {},
   "outputs": [],
   "source": [
    "data = data.drop(['Unnamed: 0'], axis=1)"
   ]
  },
  {
   "cell_type": "code",
   "execution_count": 11,
   "metadata": {},
   "outputs": [
    {
     "data": {
      "text/html": [
       "<div>\n",
       "<style scoped>\n",
       "    .dataframe tbody tr th:only-of-type {\n",
       "        vertical-align: middle;\n",
       "    }\n",
       "\n",
       "    .dataframe tbody tr th {\n",
       "        vertical-align: top;\n",
       "    }\n",
       "\n",
       "    .dataframe thead th {\n",
       "        text-align: right;\n",
       "    }\n",
       "</style>\n",
       "<table border=\"1\" class=\"dataframe\">\n",
       "  <thead>\n",
       "    <tr style=\"text-align: right;\">\n",
       "      <th></th>\n",
       "      <th>category</th>\n",
       "      <th>name</th>\n",
       "      <th>text</th>\n",
       "      <th>amount</th>\n",
       "      <th>price</th>\n",
       "    </tr>\n",
       "  </thead>\n",
       "  <tbody>\n",
       "    <tr>\n",
       "      <th>0</th>\n",
       "      <td>https://cdek.market/index.php?dispatch=product...</td>\n",
       "      <td>Крепление смартфона на арматуру сцепления/торм...</td>\n",
       "      <td>Универсальное крепление состоит из держателя с...</td>\n",
       "      <td>6</td>\n",
       "      <td>6800.0</td>\n",
       "    </tr>\n",
       "    <tr>\n",
       "      <th>1</th>\n",
       "      <td>https://cdek.market/index.php?dispatch=product...</td>\n",
       "      <td>Крепление смартфона на арматуру руля X-Grip® (...</td>\n",
       "      <td>Крепление состоит из универсального держателя ...</td>\n",
       "      <td>6</td>\n",
       "      <td>6440.0</td>\n",
       "    </tr>\n",
       "    <tr>\n",
       "      <th>2</th>\n",
       "      <td>https://cdek.market/index.php?dispatch=product...</td>\n",
       "      <td>Крепление смартфона на U-скобе X-Grip® (коротк...</td>\n",
       "      <td>Универсальное крепление состоит из держателя с...</td>\n",
       "      <td>13</td>\n",
       "      <td>5810.0</td>\n",
       "    </tr>\n",
       "    <tr>\n",
       "      <th>3</th>\n",
       "      <td>https://cdek.market/index.php?dispatch=product...</td>\n",
       "      <td>Крепление смартфона на струбцине X-Grip® (коро...</td>\n",
       "      <td>Крепление состоит из универсального держателя ...</td>\n",
       "      <td>17</td>\n",
       "      <td>7610.0</td>\n",
       "    </tr>\n",
       "    <tr>\n",
       "      <th>4</th>\n",
       "      <td>https://cdek.market/index.php?dispatch=product...</td>\n",
       "      <td>Крепление смартфона на U-скобе X-Grip® (станда...</td>\n",
       "      <td>Универсальное крепление RAM-B-149Z-A-UN10U сос...</td>\n",
       "      <td>13</td>\n",
       "      <td>6210.0</td>\n",
       "    </tr>\n",
       "    <tr>\n",
       "      <th>5</th>\n",
       "      <td>https://cdek.market/index.php?dispatch=product...</td>\n",
       "      <td>Крепление смартфона на U-скобе X-Grip® (станда...</td>\n",
       "      <td>Универсальное крепление состоит из держателя с...</td>\n",
       "      <td>13</td>\n",
       "      <td>5830.0</td>\n",
       "    </tr>\n",
       "    <tr>\n",
       "      <th>6</th>\n",
       "      <td>https://cdek.market/index.php?dispatch=product...</td>\n",
       "      <td>Держатель смартфона X-Grip®</td>\n",
       "      <td>Универсальный держатель RAM-HOL-UN10BU имеет и...</td>\n",
       "      <td>32</td>\n",
       "      <td>3460.0</td>\n",
       "    </tr>\n",
       "    <tr>\n",
       "      <th>7</th>\n",
       "      <td>https://cdek.market/index.php?dispatch=product...</td>\n",
       "      <td>Держатель смартфона X-Grip®</td>\n",
       "      <td>Универсальный держатель RAM-HOL-UN7BU имеет ис...</td>\n",
       "      <td>22</td>\n",
       "      <td>3070.0</td>\n",
       "    </tr>\n",
       "    <tr>\n",
       "      <th>8</th>\n",
       "      <td>https://cdek.market/index.php?dispatch=product...</td>\n",
       "      <td>Крепление смартфона на присоске X-Grip® (станд...</td>\n",
       "      <td>Универсальное крепление RAM-B-166-UN10U состои...</td>\n",
       "      <td>25</td>\n",
       "      <td>6440.0</td>\n",
       "    </tr>\n",
       "    <tr>\n",
       "      <th>9</th>\n",
       "      <td>https://cdek.market/index.php?dispatch=product...</td>\n",
       "      <td>Крепление смартфона на адаптере AMP X-Grip® (с...</td>\n",
       "      <td>Универсальное крепление состоит из держателя с...</td>\n",
       "      <td>4</td>\n",
       "      <td>5380.0</td>\n",
       "    </tr>\n",
       "  </tbody>\n",
       "</table>\n",
       "</div>"
      ],
      "text/plain": [
       "                                            category  \\\n",
       "0  https://cdek.market/index.php?dispatch=product...   \n",
       "1  https://cdek.market/index.php?dispatch=product...   \n",
       "2  https://cdek.market/index.php?dispatch=product...   \n",
       "3  https://cdek.market/index.php?dispatch=product...   \n",
       "4  https://cdek.market/index.php?dispatch=product...   \n",
       "5  https://cdek.market/index.php?dispatch=product...   \n",
       "6  https://cdek.market/index.php?dispatch=product...   \n",
       "7  https://cdek.market/index.php?dispatch=product...   \n",
       "8  https://cdek.market/index.php?dispatch=product...   \n",
       "9  https://cdek.market/index.php?dispatch=product...   \n",
       "\n",
       "                                                name  \\\n",
       "0  Крепление смартфона на арматуру сцепления/торм...   \n",
       "1  Крепление смартфона на арматуру руля X-Grip® (...   \n",
       "2  Крепление смартфона на U-скобе X-Grip® (коротк...   \n",
       "3  Крепление смартфона на струбцине X-Grip® (коро...   \n",
       "4  Крепление смартфона на U-скобе X-Grip® (станда...   \n",
       "5  Крепление смартфона на U-скобе X-Grip® (станда...   \n",
       "6                        Держатель смартфона X-Grip®   \n",
       "7                        Держатель смартфона X-Grip®   \n",
       "8  Крепление смартфона на присоске X-Grip® (станд...   \n",
       "9  Крепление смартфона на адаптере AMP X-Grip® (с...   \n",
       "\n",
       "                                                text  amount   price  \n",
       "0  Универсальное крепление состоит из держателя с...       6  6800.0  \n",
       "1  Крепление состоит из универсального держателя ...       6  6440.0  \n",
       "2  Универсальное крепление состоит из держателя с...      13  5810.0  \n",
       "3  Крепление состоит из универсального держателя ...      17  7610.0  \n",
       "4  Универсальное крепление RAM-B-149Z-A-UN10U сос...      13  6210.0  \n",
       "5  Универсальное крепление состоит из держателя с...      13  5830.0  \n",
       "6  Универсальный держатель RAM-HOL-UN10BU имеет и...      32  3460.0  \n",
       "7  Универсальный держатель RAM-HOL-UN7BU имеет ис...      22  3070.0  \n",
       "8  Универсальное крепление RAM-B-166-UN10U состои...      25  6440.0  \n",
       "9  Универсальное крепление состоит из держателя с...       4  5380.0  "
      ]
     },
     "execution_count": 11,
     "metadata": {},
     "output_type": "execute_result"
    }
   ],
   "source": [
    "data.head(10)"
   ]
  },
  {
   "cell_type": "markdown",
   "metadata": {},
   "source": [
    "Уберем проблемы с кодировкой ftfy"
   ]
  },
  {
   "cell_type": "code",
   "execution_count": 49,
   "metadata": {},
   "outputs": [],
   "source": [
    "text = fix_text(text, normalization='NFKC')"
   ]
  },
  {
   "cell_type": "markdown",
   "metadata": {},
   "source": [
    "Нормализация -\n",
    "Приведение токенов к единому регистру, чтобы избавиться от поверхностной разницы в написании"
   ]
  },
  {
   "cell_type": "code",
   "execution_count": null,
   "metadata": {},
   "outputs": [],
   "source": [
    "text = text.lower()"
   ]
  },
  {
   "cell_type": "markdown",
   "metadata": {},
   "source": [
    "Разбиение на токены"
   ]
  },
  {
   "cell_type": "code",
   "execution_count": 50,
   "metadata": {},
   "outputs": [
    {
     "data": {
      "text/plain": [
       "['универсальное',\n",
       " 'крепление',\n",
       " 'состоит',\n",
       " 'из',\n",
       " 'держателя',\n",
       " 'с',\n",
       " 'подпружиненным',\n",
       " 'зажимом',\n",
       " ',',\n",
       " 'который',\n",
       " 'на',\n",
       " 'шарнирном',\n",
       " 'соединении',\n",
       " 'через',\n",
       " 'короткий',\n",
       " 'рычаг',\n",
       " '60мм.',\n",
       " ',',\n",
       " 'соединен',\n",
       " 'с',\n",
       " 'кронштейном',\n",
       " 'для',\n",
       " 'установки',\n",
       " 'на',\n",
       " 'мотоцикл',\n",
       " 'двумя',\n",
       " 'болтами',\n",
       " 'к',\n",
       " 'хомуту',\n",
       " 'арматуры',\n",
       " 'сцепления',\n",
       " 'или',\n",
       " 'ручного',\n",
       " 'тормоза',\n",
       " 'с',\n",
       " 'левой',\n",
       " 'или',\n",
       " 'с',\n",
       " 'правой',\n",
       " 'стороны',\n",
       " 'или',\n",
       " 'с',\n",
       " 'помощью',\n",
       " 'оцинкованной',\n",
       " 'u-скобы',\n",
       " '(',\n",
       " '2шт',\n",
       " '.',\n",
       " 'в',\n",
       " 'комплекте',\n",
       " ')',\n",
       " 'к',\n",
       " 'трубе',\n",
       " 'руля',\n",
       " 'диаметром',\n",
       " 'от',\n",
       " '1,3см',\n",
       " 'до',\n",
       " '3,1см',\n",
       " '(',\n",
       " 'от',\n",
       " '0.50',\n",
       " \"''\",\n",
       " 'до',\n",
       " '1.25',\n",
       " \"''\",\n",
       " ')',\n",
       " '.',\n",
       " 'u-скоба',\n",
       " 'имеет',\n",
       " 'черные',\n",
       " 'пластиковые',\n",
       " 'колпачки',\n",
       " ',',\n",
       " 'скрывающие',\n",
       " 'открытые',\n",
       " 'участки',\n",
       " 'резьбы',\n",
       " '.',\n",
       " 'в',\n",
       " 'комплекте',\n",
       " 'так',\n",
       " 'же',\n",
       " 'специальная',\n",
       " 'вставка',\n",
       " ',',\n",
       " 'позволяющая',\n",
       " 'устанавливать',\n",
       " 'хомут',\n",
       " 'на',\n",
       " 'тонкую',\n",
       " 'трубу',\n",
       " '?',\n",
       " 'до',\n",
       " '1,3',\n",
       " 'см',\n",
       " '.',\n",
       " 'универсальный',\n",
       " 'держатель',\n",
       " 'имеет',\n",
       " 'искусную',\n",
       " 'и',\n",
       " 'умную',\n",
       " 'конструкцию',\n",
       " 'с',\n",
       " 'четырьмя',\n",
       " 'подпружиненными',\n",
       " 'опорами',\n",
       " ',',\n",
       " 'которые',\n",
       " 'надежно',\n",
       " 'фиксируют',\n",
       " 'смартфон',\n",
       " 'или',\n",
       " 'фаблет',\n",
       " 'с',\n",
       " 'достаточной',\n",
       " 'силой',\n",
       " ',',\n",
       " 'не',\n",
       " 'закрывая',\n",
       " 'собой',\n",
       " 'экран',\n",
       " '.',\n",
       " 'запатентованная',\n",
       " 'система',\n",
       " 'шарниров',\n",
       " ',',\n",
       " 'состоящих',\n",
       " 'из',\n",
       " 'прорезиненного',\n",
       " 'шара',\n",
       " 'на',\n",
       " 'держателе',\n",
       " 'и',\n",
       " 'u-скобе',\n",
       " ',',\n",
       " 'и',\n",
       " 'посадочных',\n",
       " 'гнезд',\n",
       " 'на',\n",
       " 'связующих',\n",
       " 'их',\n",
       " 'рычаге',\n",
       " 'позволяет',\n",
       " 'устанавливать',\n",
       " 'крепление',\n",
       " 'в',\n",
       " 'удобном',\n",
       " 'вам',\n",
       " 'месте',\n",
       " 'и',\n",
       " 'настраивать',\n",
       " 'нужный',\n",
       " 'угол',\n",
       " 'обзора',\n",
       " '.',\n",
       " 'в',\n",
       " 'нашем',\n",
       " 'магазине',\n",
       " 'большой',\n",
       " 'ассортимент',\n",
       " 'креплений',\n",
       " 'rammounts',\n",
       " '!']"
      ]
     },
     "execution_count": 50,
     "metadata": {},
     "output_type": "execute_result"
    }
   ],
   "source": [
    "tokens = nltk.word_tokenize(text)\n",
    "tokens"
   ]
  },
  {
   "cell_type": "markdown",
   "metadata": {},
   "source": [
    "Удаляем пунктуацию"
   ]
  },
  {
   "cell_type": "code",
   "execution_count": 51,
   "metadata": {},
   "outputs": [
    {
     "data": {
      "text/plain": [
       "'!\"#$%&\\'()*+,-./:;<=>?@[\\\\]^_`{|}~'"
      ]
     },
     "execution_count": 51,
     "metadata": {},
     "output_type": "execute_result"
    }
   ],
   "source": [
    "string.punctuation"
   ]
  },
  {
   "cell_type": "code",
   "execution_count": 52,
   "metadata": {},
   "outputs": [
    {
     "data": {
      "text/plain": [
       "['универсальное',\n",
       " 'крепление',\n",
       " 'состоит',\n",
       " 'из',\n",
       " 'держателя',\n",
       " 'с',\n",
       " 'подпружиненным',\n",
       " 'зажимом',\n",
       " 'который',\n",
       " 'на',\n",
       " 'шарнирном',\n",
       " 'соединении',\n",
       " 'через',\n",
       " 'короткий',\n",
       " 'рычаг',\n",
       " '60мм.',\n",
       " 'соединен',\n",
       " 'с',\n",
       " 'кронштейном',\n",
       " 'для',\n",
       " 'установки',\n",
       " 'на',\n",
       " 'мотоцикл',\n",
       " 'двумя',\n",
       " 'болтами',\n",
       " 'к',\n",
       " 'хомуту',\n",
       " 'арматуры',\n",
       " 'сцепления',\n",
       " 'или',\n",
       " 'ручного',\n",
       " 'тормоза',\n",
       " 'с',\n",
       " 'левой',\n",
       " 'или',\n",
       " 'с',\n",
       " 'правой',\n",
       " 'стороны',\n",
       " 'или',\n",
       " 'с',\n",
       " 'помощью',\n",
       " 'оцинкованной',\n",
       " 'u-скобы',\n",
       " '2шт',\n",
       " 'в',\n",
       " 'комплекте',\n",
       " 'к',\n",
       " 'трубе',\n",
       " 'руля',\n",
       " 'диаметром',\n",
       " 'от',\n",
       " '1,3см',\n",
       " 'до',\n",
       " '3,1см',\n",
       " 'от',\n",
       " '0.50',\n",
       " \"''\",\n",
       " 'до',\n",
       " '1.25',\n",
       " \"''\",\n",
       " 'u-скоба',\n",
       " 'имеет',\n",
       " 'черные',\n",
       " 'пластиковые',\n",
       " 'колпачки',\n",
       " 'скрывающие',\n",
       " 'открытые',\n",
       " 'участки',\n",
       " 'резьбы',\n",
       " 'в',\n",
       " 'комплекте',\n",
       " 'так',\n",
       " 'же',\n",
       " 'специальная',\n",
       " 'вставка',\n",
       " 'позволяющая',\n",
       " 'устанавливать',\n",
       " 'хомут',\n",
       " 'на',\n",
       " 'тонкую',\n",
       " 'трубу',\n",
       " 'до',\n",
       " '1,3',\n",
       " 'см',\n",
       " 'универсальный',\n",
       " 'держатель',\n",
       " 'имеет',\n",
       " 'искусную',\n",
       " 'и',\n",
       " 'умную',\n",
       " 'конструкцию',\n",
       " 'с',\n",
       " 'четырьмя',\n",
       " 'подпружиненными',\n",
       " 'опорами',\n",
       " 'которые',\n",
       " 'надежно',\n",
       " 'фиксируют',\n",
       " 'смартфон',\n",
       " 'или',\n",
       " 'фаблет',\n",
       " 'с',\n",
       " 'достаточной',\n",
       " 'силой',\n",
       " 'не',\n",
       " 'закрывая',\n",
       " 'собой',\n",
       " 'экран',\n",
       " 'запатентованная',\n",
       " 'система',\n",
       " 'шарниров',\n",
       " 'состоящих',\n",
       " 'из',\n",
       " 'прорезиненного',\n",
       " 'шара',\n",
       " 'на',\n",
       " 'держателе',\n",
       " 'и',\n",
       " 'u-скобе',\n",
       " 'и',\n",
       " 'посадочных',\n",
       " 'гнезд',\n",
       " 'на',\n",
       " 'связующих',\n",
       " 'их',\n",
       " 'рычаге',\n",
       " 'позволяет',\n",
       " 'устанавливать',\n",
       " 'крепление',\n",
       " 'в',\n",
       " 'удобном',\n",
       " 'вам',\n",
       " 'месте',\n",
       " 'и',\n",
       " 'настраивать',\n",
       " 'нужный',\n",
       " 'угол',\n",
       " 'обзора',\n",
       " 'в',\n",
       " 'нашем',\n",
       " 'магазине',\n",
       " 'большой',\n",
       " 'ассортимент',\n",
       " 'креплений',\n",
       " 'rammounts']"
      ]
     },
     "execution_count": 52,
     "metadata": {},
     "output_type": "execute_result"
    }
   ],
   "source": [
    "tokens = [x for x in tokens if x not in string.punctuation]\n",
    "tokens"
   ]
  },
  {
   "cell_type": "markdown",
   "metadata": {},
   "source": [
    "Убираем Стоп-слова - Наиболее частые слова в языке, не содержащие никакой информации о содержании текста"
   ]
  },
  {
   "cell_type": "code",
   "execution_count": 43,
   "metadata": {},
   "outputs": [
    {
     "name": "stderr",
     "output_type": "stream",
     "text": [
      "[nltk_data] Downloading package stopwords to /home/nata/nltk_data...\n",
      "[nltk_data]   Unzipping corpora/stopwords.zip.\n"
     ]
    },
    {
     "data": {
      "text/plain": [
       "True"
      ]
     },
     "execution_count": 43,
     "metadata": {},
     "output_type": "execute_result"
    }
   ],
   "source": [
    "from nltk.corpus import stopwords\n",
    "nltk.download('stopwords')"
   ]
  },
  {
   "cell_type": "code",
   "execution_count": 45,
   "metadata": {},
   "outputs": [
    {
     "data": {
      "text/plain": [
       "151"
      ]
     },
     "execution_count": 45,
     "metadata": {},
     "output_type": "execute_result"
    }
   ],
   "source": [
    "len(stopwords.words('russian'))"
   ]
  },
  {
   "cell_type": "code",
   "execution_count": 46,
   "metadata": {},
   "outputs": [
    {
     "name": "stdout",
     "output_type": "stream",
     "text": [
      "и в во не что он на я с со как а то все она так его но да ты\n"
     ]
    }
   ],
   "source": [
    "print (' '.join(stopwords.words('russian')[:20]))"
   ]
  },
  {
   "cell_type": "code",
   "execution_count": 53,
   "metadata": {},
   "outputs": [
    {
     "data": {
      "text/plain": [
       "['универсальное',\n",
       " 'крепление',\n",
       " 'состоит',\n",
       " 'держателя',\n",
       " 'подпружиненным',\n",
       " 'зажимом',\n",
       " 'который',\n",
       " 'шарнирном',\n",
       " 'соединении',\n",
       " 'короткий',\n",
       " 'рычаг',\n",
       " '60мм.',\n",
       " 'соединен',\n",
       " 'кронштейном',\n",
       " 'установки',\n",
       " 'мотоцикл',\n",
       " 'двумя',\n",
       " 'болтами',\n",
       " 'хомуту',\n",
       " 'арматуры',\n",
       " 'сцепления',\n",
       " 'ручного',\n",
       " 'тормоза',\n",
       " 'левой',\n",
       " 'правой',\n",
       " 'стороны',\n",
       " 'помощью',\n",
       " 'оцинкованной',\n",
       " 'u-скобы',\n",
       " '2шт',\n",
       " 'комплекте',\n",
       " 'трубе',\n",
       " 'руля',\n",
       " 'диаметром',\n",
       " '1,3см',\n",
       " '3,1см',\n",
       " '0.50',\n",
       " \"''\",\n",
       " '1.25',\n",
       " \"''\",\n",
       " 'u-скоба',\n",
       " 'имеет',\n",
       " 'черные',\n",
       " 'пластиковые',\n",
       " 'колпачки',\n",
       " 'скрывающие',\n",
       " 'открытые',\n",
       " 'участки',\n",
       " 'резьбы',\n",
       " 'комплекте',\n",
       " 'специальная',\n",
       " 'вставка',\n",
       " 'позволяющая',\n",
       " 'устанавливать',\n",
       " 'хомут',\n",
       " 'тонкую',\n",
       " 'трубу',\n",
       " '1,3',\n",
       " 'см',\n",
       " 'универсальный',\n",
       " 'держатель',\n",
       " 'имеет',\n",
       " 'искусную',\n",
       " 'умную',\n",
       " 'конструкцию',\n",
       " 'четырьмя',\n",
       " 'подпружиненными',\n",
       " 'опорами',\n",
       " 'которые',\n",
       " 'надежно',\n",
       " 'фиксируют',\n",
       " 'смартфон',\n",
       " 'фаблет',\n",
       " 'достаточной',\n",
       " 'силой',\n",
       " 'закрывая',\n",
       " 'собой',\n",
       " 'экран',\n",
       " 'запатентованная',\n",
       " 'система',\n",
       " 'шарниров',\n",
       " 'состоящих',\n",
       " 'прорезиненного',\n",
       " 'шара',\n",
       " 'держателе',\n",
       " 'u-скобе',\n",
       " 'посадочных',\n",
       " 'гнезд',\n",
       " 'связующих',\n",
       " 'рычаге',\n",
       " 'позволяет',\n",
       " 'устанавливать',\n",
       " 'крепление',\n",
       " 'удобном',\n",
       " 'месте',\n",
       " 'настраивать',\n",
       " 'нужный',\n",
       " 'угол',\n",
       " 'обзора',\n",
       " 'нашем',\n",
       " 'магазине',\n",
       " 'большой',\n",
       " 'ассортимент',\n",
       " 'креплений',\n",
       " 'rammounts']"
      ]
     },
     "execution_count": 53,
     "metadata": {},
     "output_type": "execute_result"
    }
   ],
   "source": [
    "tokens = [x for x in tokens if x not in stopwords.words('russian')]\n",
    "tokens"
   ]
  },
  {
   "cell_type": "markdown",
   "metadata": {},
   "source": [
    "Нормализация - Стемминг и Лемматизация\n",
    "Приведение грамматических форм слова и однокоренных слов к единой основе (lemma):\n",
    "\n",
    "Стемминг – это грубый эвристический процесс, который отрезает «лишнее» от корня слов, часто это приводит к потере словообразовательных суффиксов.\n",
    "\n",
    "Лемматиза́ция — процесс приведения словоформы к лемме — её нормальной (словарной) форме."
   ]
  },
  {
   "cell_type": "markdown",
   "metadata": {},
   "source": [
    "Стемминг (для русского не огонь. Пока без него обойдемся)"
   ]
  },
  {
   "cell_type": "code",
   "execution_count": 56,
   "metadata": {},
   "outputs": [
    {
     "name": "stdout",
     "output_type": "stream",
     "text": [
      "авиац\n",
      "национальн\n",
      "переобучен\n"
     ]
    }
   ],
   "source": [
    "#Пример использования Stemmer\n",
    "from nltk.stem.snowball import RussianStemmer\n",
    "r = RussianStemmer()\n",
    "print(r.stem('Авиация'))\n",
    "print(r.stem('национальный'))\n",
    "print(r.stem('переобучение'))"
   ]
  },
  {
   "cell_type": "markdown",
   "metadata": {},
   "source": [
    "Лемматизация\n",
    "(обычно лучше работает для сложных языков, в том числе для русского)"
   ]
  },
  {
   "cell_type": "code",
   "execution_count": 60,
   "metadata": {},
   "outputs": [],
   "source": [
    "morph = pymorphy2.MorphAnalyzer()\n",
    "tokens = [morph.normal_forms(x)[0] for x in tokens]\n",
    "tokens = [x for x in tokens if x != \"''\"]\n",
    "tokens"
   ]
  },
  {
   "cell_type": "markdown",
   "metadata": {},
   "source": [
    "Представление документов"
   ]
  },
  {
   "cell_type": "markdown",
   "metadata": {},
   "source": [
    "Мешок слов"
   ]
  },
  {
   "cell_type": "code",
   "execution_count": 147,
   "metadata": {},
   "outputs": [
    {
     "data": {
      "text/html": [
       "<div>\n",
       "<style scoped>\n",
       "    .dataframe tbody tr th:only-of-type {\n",
       "        vertical-align: middle;\n",
       "    }\n",
       "\n",
       "    .dataframe tbody tr th {\n",
       "        vertical-align: top;\n",
       "    }\n",
       "\n",
       "    .dataframe thead th {\n",
       "        text-align: right;\n",
       "    }\n",
       "</style>\n",
       "<table border=\"1\" class=\"dataframe\">\n",
       "  <thead>\n",
       "    <tr style=\"text-align: right;\">\n",
       "      <th></th>\n",
       "      <th>0.50</th>\n",
       "      <th>1,3</th>\n",
       "      <th>1,3см</th>\n",
       "      <th>1.25</th>\n",
       "      <th>2шт</th>\n",
       "      <th>3,1см</th>\n",
       "      <th>60мм.</th>\n",
       "      <th>rammounts</th>\n",
       "      <th>u-скоба</th>\n",
       "      <th>арматура</th>\n",
       "      <th>...</th>\n",
       "      <th>участок</th>\n",
       "      <th>фабгод</th>\n",
       "      <th>фиксировать</th>\n",
       "      <th>хомут</th>\n",
       "      <th>четыре</th>\n",
       "      <th>чёрный</th>\n",
       "      <th>шар</th>\n",
       "      <th>шарнир</th>\n",
       "      <th>шарнирный</th>\n",
       "      <th>экран</th>\n",
       "    </tr>\n",
       "  </thead>\n",
       "  <tbody>\n",
       "    <tr>\n",
       "      <th>0</th>\n",
       "      <td>1.0</td>\n",
       "      <td>1.0</td>\n",
       "      <td>1.0</td>\n",
       "      <td>1.0</td>\n",
       "      <td>1.0</td>\n",
       "      <td>1.0</td>\n",
       "      <td>1.0</td>\n",
       "      <td>1.0</td>\n",
       "      <td>3.0</td>\n",
       "      <td>1.0</td>\n",
       "      <td>...</td>\n",
       "      <td>1.0</td>\n",
       "      <td>1.0</td>\n",
       "      <td>1.0</td>\n",
       "      <td>2.0</td>\n",
       "      <td>1.0</td>\n",
       "      <td>1.0</td>\n",
       "      <td>1.0</td>\n",
       "      <td>1.0</td>\n",
       "      <td>1.0</td>\n",
       "      <td>1.0</td>\n",
       "    </tr>\n",
       "  </tbody>\n",
       "</table>\n",
       "<p>1 rows × 86 columns</p>\n",
       "</div>"
      ],
      "text/plain": [
       "   0.50  1,3  1,3см  1.25  2шт  3,1см  60мм.  rammounts  u-скоба  арматура  \\\n",
       "0   1.0  1.0    1.0   1.0  1.0    1.0    1.0        1.0      3.0       1.0   \n",
       "\n",
       "   ...  участок  фабгод  фиксировать  хомут  четыре  чёрный  шар  шарнир  \\\n",
       "0  ...      1.0     1.0          1.0    2.0     1.0     1.0  1.0     1.0   \n",
       "\n",
       "   шарнирный  экран  \n",
       "0        1.0    1.0  \n",
       "\n",
       "[1 rows x 86 columns]"
      ]
     },
     "execution_count": 147,
     "metadata": {},
     "output_type": "execute_result"
    }
   ],
   "source": [
    "dvectorizer = DictVectorizer(sparse=False)\n",
    "document_bags = list()\n",
    "bag = Counter()\n",
    "\n",
    "for t in tokens:     \n",
    "    bag[t] += 1\n",
    "document_bags.append(bag)\n",
    "\n",
    "df = pd.DataFrame(dvectorizer.fit_transform(document_bags), columns=dvectorizer.feature_names_)\n",
    "df.head(10)"
   ]
  },
  {
   "cell_type": "markdown",
   "metadata": {},
   "source": [
    "Вся обработка что выше, но автоматичски"
   ]
  },
  {
   "cell_type": "code",
   "execution_count": 85,
   "metadata": {},
   "outputs": [
    {
     "data": {
      "text/plain": [
       "<1x98 sparse matrix of type '<class 'numpy.int64'>'\n",
       "\twith 98 stored elements in Compressed Sparse Row format>"
      ]
     },
     "execution_count": 85,
     "metadata": {},
     "output_type": "execute_result"
    }
   ],
   "source": [
    "from nltk.corpus import stopwords as nltk_stopwords\n",
    "stopwords = set(nltk_stopwords.words('russian'))\n",
    "sklearn_vectorizer = CountVectorizer(stop_words=stopwords, ngram_range=(1,1))\n",
    "text = [data['name'][0]+data['text'][0]]\n",
    "bow = sklearn_vectorizer.fit_transform(text)\n",
    "bow"
   ]
  },
  {
   "cell_type": "code",
   "execution_count": 136,
   "metadata": {},
   "outputs": [
    {
     "data": {
      "text/plain": [
       "['Крепление смартфона на арматуру сцепления/тормоза X-Grip® (короткий рычаг, ну трубу с U-скобой, в сборе)Универсальное крепление состоит из держателя с подпружиненным зажимом, который на шарнирном соединении через короткий рычаг 60мм., соединен с кронштейном для установки на мотоцикл двумя болтами к хомуту арматуры сцепления или ручного тормоза с левой или с правой стороны или с помощью оцинкованной U-скобы (2шт. в комплекте) к трубе руля диаметром от 1,3см до 3,1см (от 0.50\" до 1.25\"). U-скоба имеет черные пластиковые колпачки, скрывающие открытые участки резьбы. В комплекте так же специальная вставка, позволяющая устанавливать хомут на тонкую трубу ? до 1,3 см. Универсальный держатель имеет искусную и умную конструкцию с четырьмя подпружиненными опорами, которые надежно фиксируют смартфон или фаблет с достаточной силой, не закрывая собой экран. Запатентованная система шарниров, состоящих из прорезиненного шара на держателе и U-скобе, и посадочных гнезд на связующих их рычаге позволяет устанавливать крепление в удобном Вам месте и настраивать нужный угол обзора. В нашем магазине большой ассортимент креплений Rammounts!']"
      ]
     },
     "execution_count": 136,
     "metadata": {},
     "output_type": "execute_result"
    }
   ],
   "source": [
    "text2 = [data['name'][0]+ ' ' + data['text'][0]]\n",
    "text2"
   ]
  },
  {
   "cell_type": "code",
   "execution_count": 86,
   "metadata": {},
   "outputs": [
    {
     "data": {
      "text/plain": [
       "matrix([[1, 1, 1, 1, 1, 1, 1, 1, 1, 1, 1, 1, 1, 1, 1, 1, 1, 1, 1, 1, 1,\n",
       "         1, 2, 1, 1, 2, 1, 1, 1, 1, 2, 1, 1, 1, 1, 1, 1, 1, 1, 1, 1, 1,\n",
       "         1, 1, 1, 1, 1, 1, 1, 1, 1, 1, 1, 1, 1, 1, 1, 1, 1, 1, 1, 1, 1,\n",
       "         1, 1, 1, 1, 1, 1, 1, 1, 1, 1, 1, 1, 1, 1, 1, 1, 1, 1, 1, 1, 1,\n",
       "         1, 2, 1, 1, 1, 1, 1, 1, 1, 1, 1, 1, 1, 1]])"
      ]
     },
     "execution_count": 86,
     "metadata": {},
     "output_type": "execute_result"
    }
   ],
   "source": [
    "bow.todense()"
   ]
  },
  {
   "cell_type": "code",
   "execution_count": 87,
   "metadata": {},
   "outputs": [
    {
     "data": {
      "text/plain": [
       "{'универсальное': 83,\n",
       " 'крепление': 30,\n",
       " 'состоит': 71,\n",
       " 'держателя': 16,\n",
       " 'подпружиненным': 46,\n",
       " 'зажимом': 19,\n",
       " 'который': 29,\n",
       " 'шарнирном': 95,\n",
       " 'соединении': 70,\n",
       " 'короткий': 27,\n",
       " 'рычаг': 57,\n",
       " '60мм': 5,\n",
       " 'соединен': 69,\n",
       " 'кронштейном': 32,\n",
       " 'установки': 86,\n",
       " 'мотоцикл': 36,\n",
       " 'двумя': 13,\n",
       " 'болтами': 9,\n",
       " 'хомуту': 91,\n",
       " 'арматуры': 7,\n",
       " 'сцепления': 75,\n",
       " 'ручного': 56,\n",
       " 'тормоза': 77,\n",
       " 'левой': 33,\n",
       " 'правой': 52,\n",
       " 'стороны': 74,\n",
       " 'помощью': 50,\n",
       " 'оцинкованной': 44,\n",
       " 'скобы': 64,\n",
       " '2шт': 2,\n",
       " 'комплекте': 25,\n",
       " 'трубе': 78,\n",
       " 'руля': 55,\n",
       " 'диаметром': 17,\n",
       " '3см': 3,\n",
       " '1см': 0,\n",
       " '50': 4,\n",
       " '25': 1,\n",
       " 'скоба': 62,\n",
       " 'имеет': 22,\n",
       " 'черные': 92,\n",
       " 'пластиковые': 45,\n",
       " 'колпачки': 24,\n",
       " 'скрывающие': 65,\n",
       " 'открытые': 43,\n",
       " 'участки': 87,\n",
       " 'резьбы': 54,\n",
       " 'специальная': 73,\n",
       " 'вставка': 11,\n",
       " 'позволяющая': 49,\n",
       " 'устанавливать': 85,\n",
       " 'хомут': 90,\n",
       " 'тонкую': 76,\n",
       " 'трубу': 79,\n",
       " 'см': 66,\n",
       " 'универсальный': 84,\n",
       " 'держатель': 15,\n",
       " 'искусную': 23,\n",
       " 'умную': 82,\n",
       " 'конструкцию': 26,\n",
       " 'четырьмя': 93,\n",
       " 'подпружиненными': 47,\n",
       " 'опорами': 42,\n",
       " 'которые': 28,\n",
       " 'надежно': 37,\n",
       " 'фиксируют': 89,\n",
       " 'смартфон': 67,\n",
       " 'фаблет': 88,\n",
       " 'достаточной': 18,\n",
       " 'силой': 60,\n",
       " 'закрывая': 20,\n",
       " 'собой': 68,\n",
       " 'экран': 97,\n",
       " 'запатентованная': 21,\n",
       " 'система': 61,\n",
       " 'шарниров': 96,\n",
       " 'состоящих': 72,\n",
       " 'прорезиненного': 53,\n",
       " 'шара': 94,\n",
       " 'держателе': 14,\n",
       " 'скобе': 63,\n",
       " 'посадочных': 51,\n",
       " 'гнезд': 12,\n",
       " 'связующих': 59,\n",
       " 'рычаге': 58,\n",
       " 'позволяет': 48,\n",
       " 'удобном': 81,\n",
       " 'месте': 35,\n",
       " 'настраивать': 38,\n",
       " 'нужный': 40,\n",
       " 'угол': 80,\n",
       " 'обзора': 41,\n",
       " 'нашем': 39,\n",
       " 'магазине': 34,\n",
       " 'большой': 10,\n",
       " 'ассортимент': 8,\n",
       " 'креплений': 31,\n",
       " 'rammounts': 6}"
      ]
     },
     "execution_count": 87,
     "metadata": {},
     "output_type": "execute_result"
    }
   ],
   "source": [
    "sklearn_vectorizer.vocabulary_"
   ]
  },
  {
   "cell_type": "markdown",
   "metadata": {},
   "source": [
    "Примените tf-idf преобразование для текстового описания. Используйте как отдельные токены, так и биграммы, отсейте стоп-слова, а также слова, которые встречаются слишком редко или слишком часто (параметры min/max_df), не забудьте убрать l2 регуляризацию, которая по умолчанию включена"
   ]
  },
  {
   "cell_type": "markdown",
   "metadata": {},
   "source": [
    "TF-IDF\n",
    "Количество вхождений слова  𝑡  в документе  𝑑 \n",
    "𝑇𝐹𝑡,𝑑=𝑡𝑒𝑟𝑚−𝑓𝑟𝑒𝑞𝑢𝑒𝑛𝑐𝑦(𝑡,𝑑)\n",
    " \n",
    "Количество документов из  𝑁  возможных, где встречается  𝑡 \n",
    "𝐷𝐹𝑡=𝑑𝑜𝑐𝑢𝑚𝑒𝑛𝑡−𝑓𝑒𝑞𝑢𝑒𝑛𝑐𝑦(𝑡)\n",
    " \n",
    "𝐼𝐷𝐹𝑡=𝑖𝑛𝑣𝑒𝑟𝑠𝑒−𝑑𝑜𝑐𝑢𝑚𝑒𝑛𝑡−𝑓𝑟𝑒𝑞𝑢𝑒𝑛𝑐𝑦(𝑡)=log𝑁𝐷𝐹𝑡\n",
    " \n",
    "TF-IDF\n",
    "𝑇𝐹−𝐼𝐷𝐹𝑡,𝑑=𝑇𝐹𝑡,𝑑×𝐼𝐷𝐹𝑡\n",
    " \n",
    "Оценивает важность слова в контексте документа, являющегося частью корпуса"
   ]
  },
  {
   "cell_type": "markdown",
   "metadata": {},
   "source": [
    "TF-IDF (от англ. term frequency и inverse document frequency — частота слова и обратная частота документа) — это показатель, который используется для оценки важности слова в документе.\n",
    "\n",
    "TF (частота слов) характеризует отношение числа вхождений конкретного слова к общему набору слов в документе. Чем выше TF, тем весомее конкретное слово в рамках документа.\n",
    "\n",
    "IDF (обратная частота документа) характеризует инверсию частотности, с которой конкретное слово используется в тексте. С помощью этой метрики можно снизить важность слов — например, союзов или предлогов."
   ]
  },
  {
   "cell_type": "code",
   "execution_count": 155,
   "metadata": {},
   "outputs": [
    {
     "name": "stdout",
     "output_type": "stream",
     "text": [
      "0\n",
      "1\n",
      "2\n",
      "3\n",
      "4\n",
      "5\n",
      "6\n",
      "7\n",
      "8\n",
      "9\n",
      "10\n",
      "11\n",
      "12\n",
      "13\n",
      "14\n",
      "15\n",
      "16\n",
      "17\n",
      "18\n",
      "19\n",
      "20\n",
      "21\n",
      "22\n",
      "23\n",
      "24\n",
      "25\n",
      "26\n",
      "27\n",
      "28\n",
      "29\n",
      "30\n",
      "31\n",
      "32\n",
      "33\n",
      "34\n",
      "35\n",
      "36\n",
      "37\n",
      "38\n",
      "39\n",
      "40\n",
      "41\n",
      "42\n",
      "43\n",
      "44\n",
      "45\n",
      "46\n",
      "47\n",
      "48\n",
      "49\n",
      "50\n",
      "51\n",
      "52\n",
      "53\n",
      "54\n",
      "55\n",
      "56\n",
      "57\n",
      "58\n",
      "59\n",
      "60\n",
      "61\n",
      "62\n",
      "63\n",
      "64\n",
      "65\n",
      "66\n",
      "67\n",
      "68\n",
      "69\n",
      "70\n",
      "71\n",
      "72\n",
      "73\n",
      "74\n",
      "75\n",
      "76\n",
      "77\n",
      "78\n",
      "79\n",
      "80\n",
      "81\n",
      "82\n",
      "83\n",
      "84\n",
      "85\n",
      "86\n",
      "87\n",
      "88\n",
      "89\n",
      "90\n",
      "91\n",
      "92\n",
      "93\n",
      "94\n",
      "95\n",
      "96\n",
      "97\n",
      "98\n",
      "99\n",
      "100\n",
      "101\n",
      "102\n",
      "103\n",
      "104\n",
      "105\n",
      "106\n",
      "107\n",
      "108\n",
      "109\n",
      "110\n",
      "111\n",
      "112\n",
      "113\n",
      "114\n",
      "115\n",
      "116\n",
      "117\n"
     ]
    }
   ],
   "source": [
    "text = []\n",
    "for index in data.index:\n",
    "    text.append(str(data['name'][index]) + ' ' + str(data['text'][index]))"
   ]
  },
  {
   "cell_type": "code",
   "execution_count": 161,
   "metadata": {},
   "outputs": [],
   "source": [
    "vectorizer = TfidfVectorizer(stop_words=stopwords, norm=None, ngram_range=(1,2), min_df= 0.1, max_df=0.7)\n",
    "df = pd.DataFrame(\n",
    "    vectorizer.fit_transform(text).todense(), \n",
    "    columns=vectorizer.get_feature_names()\n",
    ")"
   ]
  },
  {
   "cell_type": "code",
   "execution_count": 180,
   "metadata": {},
   "outputs": [
    {
     "name": "stdout",
     "output_type": "stream",
     "text": [
      "price                    118\n",
      "11                       118\n",
      "baseus                   118\n",
      "baseus iphone            118\n",
      "gl                       118\n",
      "                        ... \n",
      "шарнирном соединении     118\n",
      "шарниров                 118\n",
      "шарниров состоящих       118\n",
      "экран                    118\n",
      "экран запатентованная    118\n",
      "Length: 161, dtype: int64\n"
     ]
    },
    {
     "data": {
      "text/html": [
       "<div>\n",
       "<style scoped>\n",
       "    .dataframe tbody tr th:only-of-type {\n",
       "        vertical-align: middle;\n",
       "    }\n",
       "\n",
       "    .dataframe tbody tr th {\n",
       "        vertical-align: top;\n",
       "    }\n",
       "\n",
       "    .dataframe thead th {\n",
       "        text-align: right;\n",
       "    }\n",
       "</style>\n",
       "<table border=\"1\" class=\"dataframe\">\n",
       "  <thead>\n",
       "    <tr style=\"text-align: right;\">\n",
       "      <th></th>\n",
       "      <th>price</th>\n",
       "      <th>11</th>\n",
       "      <th>baseus</th>\n",
       "      <th>baseus iphone</th>\n",
       "      <th>gl</th>\n",
       "      <th>glass</th>\n",
       "      <th>glass gl</th>\n",
       "      <th>grip</th>\n",
       "      <th>grip короткий</th>\n",
       "      <th>iphone</th>\n",
       "      <th>...</th>\n",
       "      <th>чехол</th>\n",
       "      <th>чехол baseus</th>\n",
       "      <th>шара</th>\n",
       "      <th>шара держателе</th>\n",
       "      <th>шарнирном</th>\n",
       "      <th>шарнирном соединении</th>\n",
       "      <th>шарниров</th>\n",
       "      <th>шарниров состоящих</th>\n",
       "      <th>экран</th>\n",
       "      <th>экран запатентованная</th>\n",
       "    </tr>\n",
       "  </thead>\n",
       "  <tbody>\n",
       "    <tr>\n",
       "      <th>0</th>\n",
       "      <td>6800.0</td>\n",
       "      <td>0.0</td>\n",
       "      <td>0.0</td>\n",
       "      <td>0.0</td>\n",
       "      <td>0.0</td>\n",
       "      <td>0.0</td>\n",
       "      <td>0.0</td>\n",
       "      <td>2.313388</td>\n",
       "      <td>3.214174</td>\n",
       "      <td>0.0</td>\n",
       "      <td>...</td>\n",
       "      <td>0.0</td>\n",
       "      <td>0.0</td>\n",
       "      <td>2.734601</td>\n",
       "      <td>2.734601</td>\n",
       "      <td>2.446919</td>\n",
       "      <td>2.446919</td>\n",
       "      <td>2.734601</td>\n",
       "      <td>2.734601</td>\n",
       "      <td>2.252763</td>\n",
       "      <td>2.734601</td>\n",
       "    </tr>\n",
       "  </tbody>\n",
       "</table>\n",
       "<p>1 rows × 161 columns</p>\n",
       "</div>"
      ],
      "text/plain": [
       "    price   11  baseus  baseus iphone   gl  glass  glass gl      grip  \\\n",
       "0  6800.0  0.0     0.0            0.0  0.0    0.0       0.0  2.313388   \n",
       "\n",
       "   grip короткий  iphone  ...  чехол  чехол baseus      шара  шара держателе  \\\n",
       "0       3.214174     0.0  ...    0.0           0.0  2.734601        2.734601   \n",
       "\n",
       "   шарнирном  шарнирном соединении  шарниров  шарниров состоящих     экран  \\\n",
       "0   2.446919              2.446919  2.734601            2.734601  2.252763   \n",
       "\n",
       "   экран запатентованная  \n",
       "0               2.734601  \n",
       "\n",
       "[1 rows x 161 columns]"
      ]
     },
     "execution_count": 180,
     "metadata": {},
     "output_type": "execute_result"
    }
   ],
   "source": [
    "data_tokens = pd.merge(data['price'], df, left_index=True, right_index=True)\n",
    "print(data_tokens.count())\n",
    "data_tokens[data_tokens.index == 0]"
   ]
  },
  {
   "cell_type": "code",
   "execution_count": 200,
   "metadata": {},
   "outputs": [],
   "source": [
    "data_shuffled = shuffle(data_tokens).reset_index(drop=True)"
   ]
  },
  {
   "cell_type": "code",
   "execution_count": 201,
   "metadata": {},
   "outputs": [
    {
     "data": {
      "text/html": [
       "<div>\n",
       "<style scoped>\n",
       "    .dataframe tbody tr th:only-of-type {\n",
       "        vertical-align: middle;\n",
       "    }\n",
       "\n",
       "    .dataframe tbody tr th {\n",
       "        vertical-align: top;\n",
       "    }\n",
       "\n",
       "    .dataframe thead th {\n",
       "        text-align: right;\n",
       "    }\n",
       "</style>\n",
       "<table border=\"1\" class=\"dataframe\">\n",
       "  <thead>\n",
       "    <tr style=\"text-align: right;\">\n",
       "      <th></th>\n",
       "      <th>price</th>\n",
       "      <th>11</th>\n",
       "      <th>baseus</th>\n",
       "      <th>baseus iphone</th>\n",
       "      <th>gl</th>\n",
       "      <th>glass</th>\n",
       "      <th>glass gl</th>\n",
       "      <th>grip</th>\n",
       "      <th>grip короткий</th>\n",
       "      <th>iphone</th>\n",
       "      <th>...</th>\n",
       "      <th>чехол</th>\n",
       "      <th>чехол baseus</th>\n",
       "      <th>шара</th>\n",
       "      <th>шара держателе</th>\n",
       "      <th>шарнирном</th>\n",
       "      <th>шарнирном соединении</th>\n",
       "      <th>шарниров</th>\n",
       "      <th>шарниров состоящих</th>\n",
       "      <th>экран</th>\n",
       "      <th>экран запатентованная</th>\n",
       "    </tr>\n",
       "  </thead>\n",
       "  <tbody>\n",
       "    <tr>\n",
       "      <th>0</th>\n",
       "      <td>190.0</td>\n",
       "      <td>2.888752</td>\n",
       "      <td>2.60107</td>\n",
       "      <td>3.071073</td>\n",
       "      <td>0.000000</td>\n",
       "      <td>0.000000</td>\n",
       "      <td>0.000000</td>\n",
       "      <td>0.000000</td>\n",
       "      <td>0.000000</td>\n",
       "      <td>1.847298</td>\n",
       "      <td>...</td>\n",
       "      <td>2.411828</td>\n",
       "      <td>3.006535</td>\n",
       "      <td>0.000000</td>\n",
       "      <td>0.000000</td>\n",
       "      <td>0.000000</td>\n",
       "      <td>0.000000</td>\n",
       "      <td>0.000000</td>\n",
       "      <td>0.000000</td>\n",
       "      <td>0.000000</td>\n",
       "      <td>0.000000</td>\n",
       "    </tr>\n",
       "    <tr>\n",
       "      <th>1</th>\n",
       "      <td>1800.0</td>\n",
       "      <td>0.000000</td>\n",
       "      <td>2.60107</td>\n",
       "      <td>0.000000</td>\n",
       "      <td>0.000000</td>\n",
       "      <td>0.000000</td>\n",
       "      <td>0.000000</td>\n",
       "      <td>0.000000</td>\n",
       "      <td>0.000000</td>\n",
       "      <td>0.000000</td>\n",
       "      <td>...</td>\n",
       "      <td>0.000000</td>\n",
       "      <td>0.000000</td>\n",
       "      <td>0.000000</td>\n",
       "      <td>0.000000</td>\n",
       "      <td>0.000000</td>\n",
       "      <td>0.000000</td>\n",
       "      <td>0.000000</td>\n",
       "      <td>0.000000</td>\n",
       "      <td>0.000000</td>\n",
       "      <td>0.000000</td>\n",
       "    </tr>\n",
       "    <tr>\n",
       "      <th>2</th>\n",
       "      <td>6200.0</td>\n",
       "      <td>0.000000</td>\n",
       "      <td>0.00000</td>\n",
       "      <td>0.000000</td>\n",
       "      <td>0.000000</td>\n",
       "      <td>0.000000</td>\n",
       "      <td>0.000000</td>\n",
       "      <td>2.313388</td>\n",
       "      <td>3.214174</td>\n",
       "      <td>0.000000</td>\n",
       "      <td>...</td>\n",
       "      <td>0.000000</td>\n",
       "      <td>0.000000</td>\n",
       "      <td>2.734601</td>\n",
       "      <td>2.734601</td>\n",
       "      <td>2.446919</td>\n",
       "      <td>2.446919</td>\n",
       "      <td>2.734601</td>\n",
       "      <td>2.734601</td>\n",
       "      <td>2.252763</td>\n",
       "      <td>2.734601</td>\n",
       "    </tr>\n",
       "    <tr>\n",
       "      <th>3</th>\n",
       "      <td>8340.0</td>\n",
       "      <td>0.000000</td>\n",
       "      <td>0.00000</td>\n",
       "      <td>0.000000</td>\n",
       "      <td>0.000000</td>\n",
       "      <td>0.000000</td>\n",
       "      <td>0.000000</td>\n",
       "      <td>2.313388</td>\n",
       "      <td>0.000000</td>\n",
       "      <td>0.000000</td>\n",
       "      <td>...</td>\n",
       "      <td>0.000000</td>\n",
       "      <td>0.000000</td>\n",
       "      <td>0.000000</td>\n",
       "      <td>0.000000</td>\n",
       "      <td>2.446919</td>\n",
       "      <td>2.446919</td>\n",
       "      <td>0.000000</td>\n",
       "      <td>0.000000</td>\n",
       "      <td>2.252763</td>\n",
       "      <td>0.000000</td>\n",
       "    </tr>\n",
       "    <tr>\n",
       "      <th>4</th>\n",
       "      <td>350.0</td>\n",
       "      <td>2.888752</td>\n",
       "      <td>0.00000</td>\n",
       "      <td>0.000000</td>\n",
       "      <td>3.214174</td>\n",
       "      <td>3.214174</td>\n",
       "      <td>3.214174</td>\n",
       "      <td>0.000000</td>\n",
       "      <td>0.000000</td>\n",
       "      <td>1.847298</td>\n",
       "      <td>...</td>\n",
       "      <td>0.000000</td>\n",
       "      <td>0.000000</td>\n",
       "      <td>0.000000</td>\n",
       "      <td>0.000000</td>\n",
       "      <td>0.000000</td>\n",
       "      <td>0.000000</td>\n",
       "      <td>0.000000</td>\n",
       "      <td>0.000000</td>\n",
       "      <td>0.000000</td>\n",
       "      <td>0.000000</td>\n",
       "    </tr>\n",
       "  </tbody>\n",
       "</table>\n",
       "<p>5 rows × 161 columns</p>\n",
       "</div>"
      ],
      "text/plain": [
       "    price        11   baseus  baseus iphone        gl     glass  glass gl  \\\n",
       "0   190.0  2.888752  2.60107       3.071073  0.000000  0.000000  0.000000   \n",
       "1  1800.0  0.000000  2.60107       0.000000  0.000000  0.000000  0.000000   \n",
       "2  6200.0  0.000000  0.00000       0.000000  0.000000  0.000000  0.000000   \n",
       "3  8340.0  0.000000  0.00000       0.000000  0.000000  0.000000  0.000000   \n",
       "4   350.0  2.888752  0.00000       0.000000  3.214174  3.214174  3.214174   \n",
       "\n",
       "       grip  grip короткий    iphone  ...     чехол  чехол baseus      шара  \\\n",
       "0  0.000000       0.000000  1.847298  ...  2.411828      3.006535  0.000000   \n",
       "1  0.000000       0.000000  0.000000  ...  0.000000      0.000000  0.000000   \n",
       "2  2.313388       3.214174  0.000000  ...  0.000000      0.000000  2.734601   \n",
       "3  2.313388       0.000000  0.000000  ...  0.000000      0.000000  0.000000   \n",
       "4  0.000000       0.000000  1.847298  ...  0.000000      0.000000  0.000000   \n",
       "\n",
       "   шара держателе  шарнирном  шарнирном соединении  шарниров  \\\n",
       "0        0.000000   0.000000              0.000000  0.000000   \n",
       "1        0.000000   0.000000              0.000000  0.000000   \n",
       "2        2.734601   2.446919              2.446919  2.734601   \n",
       "3        0.000000   2.446919              2.446919  0.000000   \n",
       "4        0.000000   0.000000              0.000000  0.000000   \n",
       "\n",
       "   шарниров состоящих     экран  экран запатентованная  \n",
       "0            0.000000  0.000000               0.000000  \n",
       "1            0.000000  0.000000               0.000000  \n",
       "2            2.734601  2.252763               2.734601  \n",
       "3            0.000000  2.252763               0.000000  \n",
       "4            0.000000  0.000000               0.000000  \n",
       "\n",
       "[5 rows x 161 columns]"
      ]
     },
     "execution_count": 201,
     "metadata": {},
     "output_type": "execute_result"
    }
   ],
   "source": [
    "data_shuffled.head()"
   ]
  },
  {
   "cell_type": "markdown",
   "metadata": {},
   "source": [
    "Если в вашем датасете целевая переменная непрерывная (например, среднее число просмотров в день), то воспользуйтесь линейной регрессией, если дискретная (положительный/отрицательный отзыв), то логистической"
   ]
  },
  {
   "cell_type": "markdown",
   "metadata": {},
   "source": [
    "В текущем датасете на сайте отзывов небыло. пришлось прогнозировать цену"
   ]
  },
  {
   "cell_type": "markdown",
   "metadata": {},
   "source": [
    "Разбейте собранные данные на train/test, отложив 20-30% наблюдений для тестирования"
   ]
  },
  {
   "cell_type": "code",
   "execution_count": 202,
   "metadata": {},
   "outputs": [],
   "source": [
    "X_train, X_test, y_train, y_test = train_test_split(data_shuffled.drop(['price'], axis=1), data_shuffled['price'], test_size=0.3, random_state=0)"
   ]
  },
  {
   "cell_type": "code",
   "execution_count": 204,
   "metadata": {},
   "outputs": [
    {
     "data": {
      "text/plain": [
       "<AxesSubplot:>"
      ]
     },
     "execution_count": 204,
     "metadata": {},
     "output_type": "execute_result"
    },
    {
     "data": {
      "image/png": "[encoded data removed]",
      "text/plain": [
       "<Figure size 432x288 with 1 Axes>"
      ]
     },
     "metadata": {
      "needs_background": "light"
     },
     "output_type": "display_data"
    }
   ],
   "source": [
    "#Смесь распределений: выделяется два класса дорогих и дешевых товаров\n",
    "data_shuffled['price'].hist()"
   ]
  },
  {
   "cell_type": "code",
   "execution_count": 189,
   "metadata": {},
   "outputs": [
    {
     "data": {
      "image/png": "[encoded data removed]",
      "text/plain": [
       "<Figure size 1080x720 with 1 Axes>"
      ]
     },
     "metadata": {
      "needs_background": "light"
     },
     "output_type": "display_data"
    }
   ],
   "source": [
    "import matplotlib.pyplot as plt\n",
    "from wordcloud import WordCloud, ImageColorGenerator\n",
    "text = \" \".join(str(each) for each in data.name)\n",
    "# Create and generate a word cloud image:\n",
    "wordcloud = WordCloud(max_words=200, background_color=\"yellow\").generate(text)\n",
    "plt.figure(figsize=(15,10))\n",
    "# Display the generated image:\n",
    "plt.imshow(wordcloud, interpolation='bilinear')\n",
    "plt.axis(\"off\")\n",
    "plt.show()"
   ]
  },
  {
   "cell_type": "code",
   "execution_count": 190,
   "metadata": {},
   "outputs": [
    {
     "data": {
      "text/html": [
       "<div>\n",
       "<style scoped>\n",
       "    .dataframe tbody tr th:only-of-type {\n",
       "        vertical-align: middle;\n",
       "    }\n",
       "\n",
       "    .dataframe tbody tr th {\n",
       "        vertical-align: top;\n",
       "    }\n",
       "\n",
       "    .dataframe thead th {\n",
       "        text-align: right;\n",
       "    }\n",
       "</style>\n",
       "<table border=\"1\" class=\"dataframe\">\n",
       "  <thead>\n",
       "    <tr style=\"text-align: right;\">\n",
       "      <th></th>\n",
       "    </tr>\n",
       "    <tr>\n",
       "      <th>error_type</th>\n",
       "    </tr>\n",
       "  </thead>\n",
       "  <tbody>\n",
       "    <tr>\n",
       "      <th>MAE</th>\n",
       "    </tr>\n",
       "    <tr>\n",
       "      <th>RMSE</th>\n",
       "    </tr>\n",
       "    <tr>\n",
       "      <th>R2</th>\n",
       "    </tr>\n",
       "    <tr>\n",
       "      <th>MAPE</th>\n",
       "    </tr>\n",
       "  </tbody>\n",
       "</table>\n",
       "</div>"
      ],
      "text/plain": [
       "Empty DataFrame\n",
       "Columns: []\n",
       "Index: [MAE, RMSE, R2, MAPE]"
      ]
     },
     "execution_count": 190,
     "metadata": {},
     "output_type": "execute_result"
    }
   ],
   "source": [
    "# подгружаем метрики\n",
    "#метрики качества (можно взять несколько, R2, MAE, RMSE)\n",
    "#Средняя абсолютная ошибка (MAE) представляет собой разницу между исходными и прогнозируемыми значениями, извлеченными посредством усредненной абсолютной разницы по набору данных.\n",
    "#Среднеквадратическая ошибка (RMSE) это частота ошибок, вычисляемая квадратным корнем из MSE.\n",
    "#Коэффициент детерминации (R2) - описявает качество модели. Чем выше значение, тем лучше модель (от 0 до 1, 1 идеальный)\n",
    "#Средняя абсолютнаяпроцентная ошибка (MAPE) - процент кол-ва ошибок\n",
    "#Среднеквадратическая ошибка (MSE) - представляет собой разницу между исходным и прогнозируемым значениями, извлеченными путем возведения в квадрат средней разницы по набору данных.\n",
    "from sklearn import metrics\n",
    "def mean_absolute_percentage_error(y_true, y_pred): \n",
    "    y_true, y_pred = np.array(y_true), np.array(y_pred)\n",
    "    return np.mean(np.abs((y_true - y_pred) / y_true)) * 100\n",
    "\n",
    "def dataframe_metrics(y_test,y_pred):\n",
    "    stats = [\n",
    "       metrics.mean_absolute_error(y_test, y_pred),\n",
    "       np.sqrt(metrics.mean_squared_error(y_test, y_pred)),\n",
    "       metrics.r2_score(y_test, y_pred),\n",
    "       mean_absolute_percentage_error(y_test, y_pred)\n",
    "    ]\n",
    "    return stats\n",
    "measured_metrics = pd.DataFrame({\"error_type\":[\"MAE\", \"RMSE\", \"R2\", \"MAPE\"]})\n",
    "measured_metrics.set_index(\"error_type\")"
   ]
  },
  {
   "cell_type": "code",
   "execution_count": 205,
   "metadata": {},
   "outputs": [
    {
     "data": {
      "text/html": [
       "<div>\n",
       "<style scoped>\n",
       "    .dataframe tbody tr th:only-of-type {\n",
       "        vertical-align: middle;\n",
       "    }\n",
       "\n",
       "    .dataframe tbody tr th {\n",
       "        vertical-align: top;\n",
       "    }\n",
       "\n",
       "    .dataframe thead th {\n",
       "        text-align: right;\n",
       "    }\n",
       "</style>\n",
       "<table border=\"1\" class=\"dataframe\">\n",
       "  <thead>\n",
       "    <tr style=\"text-align: right;\">\n",
       "      <th></th>\n",
       "      <th>error_type</th>\n",
       "      <th>lin_reg</th>\n",
       "    </tr>\n",
       "  </thead>\n",
       "  <tbody>\n",
       "    <tr>\n",
       "      <th>0</th>\n",
       "      <td>MAE</td>\n",
       "      <td>823.507830</td>\n",
       "    </tr>\n",
       "    <tr>\n",
       "      <th>1</th>\n",
       "      <td>RMSE</td>\n",
       "      <td>1211.144041</td>\n",
       "    </tr>\n",
       "    <tr>\n",
       "      <th>2</th>\n",
       "      <td>R2</td>\n",
       "      <td>0.846835</td>\n",
       "    </tr>\n",
       "    <tr>\n",
       "      <th>3</th>\n",
       "      <td>MAPE</td>\n",
       "      <td>101.108296</td>\n",
       "    </tr>\n",
       "  </tbody>\n",
       "</table>\n",
       "</div>"
      ],
      "text/plain": [
       "  error_type      lin_reg\n",
       "0        MAE   823.507830\n",
       "1       RMSE  1211.144041\n",
       "2         R2     0.846835\n",
       "3       MAPE   101.108296"
      ]
     },
     "execution_count": 205,
     "metadata": {},
     "output_type": "execute_result"
    }
   ],
   "source": [
    "#2. Постройте модели простой линейной регрессии\n",
    "from sklearn.linear_model import LinearRegression\n",
    "\n",
    "lin_reg = LinearRegression(normalize=True)\n",
    "\n",
    "# Обучили модель на тренировочной выборке \n",
    "lin_reg.fit(X_train,y_train)\n",
    "# Сделали прогнозы на тестовой выборке \n",
    "lin_reg_predict = lin_reg.predict(X_test)\n",
    "measured_metrics[\"lin_reg\"] = dataframe_metrics(y_test, lin_reg_predict)\n",
    "measured_metrics"
   ]
  }
 ],
 "metadata": {
  "kernelspec": {
   "display_name": "Python 3",
   "language": "python",
   "name": "python3"
  },
  "language_info": {
   "codemirror_mode": {
    "name": "ipython",
    "version": 3
   },
   "file_extension": ".py",
   "mimetype": "text/x-python",
   "name": "python",
   "nbconvert_exporter": "python",
   "pygments_lexer": "ipython3",
   "version": "3.6.9"
  }
 },
 "nbformat": 4,
 "nbformat_minor": 4
}
